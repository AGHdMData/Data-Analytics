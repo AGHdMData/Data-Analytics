{
 "cells": [
  {
   "cell_type": "markdown",
   "metadata": {},
   "source": [
    "# Regression"
   ]
  },
  {
   "cell_type": "markdown",
   "metadata": {},
   "source": [
    "## Plan"
   ]
  },
  {
   "cell_type": "markdown",
   "metadata": {},
   "source": [
    "### Vorgehensweise:\n",
    "\n",
    "Use Case definieren durch Business Model Canvas </br>\n",
    "Problemidentifikation </br>\n",
    "Variablenidentifikation </br>\n",
    "Erfolgsmetriken identifizieren (und Misserfolg) </br>\n"
   ]
  },
  {
   "cell_type": "markdown",
   "metadata": {},
   "source": [
    "### Use Case\n",
    "\n",
    "Das Unternehmen, welches bisher vor allem als Marktplatz für Immobilien von Kunden agiert hat, möchte in den Immobilienhandel einstiegen. Den Kunden sollen Angebote für Immobilien gemacht werden, wenn diese ihre Immobilie auf dem Handelsplatz registieren. Somit kann das Unternehmen als erstes eine potenziell gewinnbringende Immobilie entdecken und erwerben. Der Kunde spart sich Zeit und Aufwand beim Verkauf der Immobilie. Um die Immobilien marktkorrekt einschätzen zu können sollen gesammelte Daten zu vergleichbaren Immobilien und deren Standorten verwendet werden, um besonders rentable Immobilien zu identifizieren. "
   ]
  },
  {
   "cell_type": "markdown",
   "metadata": {},
   "source": [
    "### Problematik\n",
    "\n",
    "Anhand von Hausdaten wie Raumanzahl, Quadratmeter, ... sowie Daten über die Umgebung (Standort) der Immobilie wie die Menge an Schulen in unmittelbarer Umgebung oder ide Durchschnittliche Lärmbelästigung sollen Preise vorhergesagt werden. Somit kann das Unternehmen überteuerte oder günstige Immobilien finden und den Besitzern bessere Angebote machen. Dies soll die Erfolgschance von Angeboten erhöhen wodurch das Unternehmen günstiger rentable Immobilien erwerben kann und den Kunden Zeit und Aufwand bei der Interessentensuche und der Kaufabwicklung erspart wird."
   ]
  },
  {
   "cell_type": "markdown",
   "metadata": {},
   "source": [
    "### Variablen\n",
    "\n",
    "Es werden strukturierte Immobiliendaten verwendet. Für den Use Case soll außerdem verglichen werden, wie viele verschiedene Variablen tatsächlich benötigt werden, um zuverlässig den Preis einer Immobilie vorherzusagen, weshalb versucht wird, zuerst ein Modell zu erstellen, welches nur mit den relevantesten Faktoren den tatsächlichen Wert der Immobilie ermittelt. Daher ist die Zielvariable der Preis der Immobilie und die erklärende Variablen sind Inforamtionen zur Immobilie (Grundstücksgröße, Anzahl an Schlafzimmer) sowie Informationen zum Standort der Immobilie."
   ]
  },
  {
   "cell_type": "markdown",
   "metadata": {},
   "source": [
    "### Metriken\n",
    "\n",
    "Als Erfolg wird verbucht, wenn es durch das Modell möglich ist, schnell und ohne menschliches Eingreifen Immobilienpreise zuverlässig vorherzusagen.\n",
    "Die Schlüsselergebnisse für den Erfolg ist eine Modellgenauigkeit (hier die erklärbare Streuung der Zielvariable durch das Modell) von mindestens 66%, wodurch Zeit der Mitarbeiter und Experten eingespart wird. Eine höhere Genauigkeit kann zukünftig dann mit präziseren Daten erreicht werden und somit menschliches Eingreifen obsolet machen.\n",
    "Bei schlechterer Genauigkeit gilt das Modell als zu ungenau und damit nicht einsetzbar. Daraufhin müsste analysiert werden, welche Daten zusätzlich benötigt werden, wie diese zu präzisieren sind oder welches Modell eventuell besser funktionieren könnte."
   ]
  },
  {
   "cell_type": "markdown",
   "metadata": {},
   "source": [
    "## Data"
   ]
  },
  {
   "cell_type": "markdown",
   "metadata": {},
   "source": [
    "### Vorgehensweise:\n",
    "\n",
    "Datenimport mit allen nötigen libraries</br>\n",
    "Datensatz kopieren und anpassen </br>\n",
    "data splitting </br>\n",
    "Datenexploration anhand des Trainingsdatensatz (Nicht testdaten verwenden!)</br>\n",
    "Korrelation zu Zielvariable per Heatmap analysieren</br>\n",
    "Datenbereinigung (Duplikate und fehlende Werte)</br>\n",
    "Datenverteilung aufzeigen</br>\n",
    "stark korrelierende Variablen/Features auswählen</br>\n",
    "Später: RobustScaling!</br>"
   ]
  },
  {
   "cell_type": "markdown",
   "metadata": {},
   "source": [
    "### Datenimport\n",
    "\n",
    "Importieren aller libraries"
   ]
  },
  {
   "cell_type": "code",
   "execution_count": 1,
   "metadata": {},
   "outputs": [],
   "source": [
    "import pandas as pd\n",
    "import numpy as np\n",
    "import matplotlib.pyplot as plt\n",
    "import seaborn as sns\n",
    "import plotly.express as px"
   ]
  },
  {
   "cell_type": "markdown",
   "metadata": {},
   "source": [
    "Daten einfügen und Spaltennamen vergeben"
   ]
  },
  {
   "cell_type": "code",
   "execution_count": 2,
   "metadata": {},
   "outputs": [],
   "source": [
    "# Datensatz hat keine Zeilenbeschreibung! \n",
    "names = ['CRIM', 'ZN','INDUS', 'CHAS', 'NOX', 'RM', 'AGE', 'DIS', 'RAD', 'TAX', 'PTRATIO', 'B', 'LSTAT', 'PRICE']\n",
    "df = pd.read_csv('housing.csv', header=None, delimiter='\\s+', names=names)\n",
    "data = pd.read_csv('housing.csv', header=None, delimiter='\\s+', names=names)"
   ]
  },
  {
   "cell_type": "markdown",
   "metadata": {},
   "source": [
    "Da verglichen werden soll, wie viel genauer unsere Preisvorhersage mit vielen Variablen ist, wird ein weiteres DataFrame benötigt."
   ]
  },
  {
   "cell_type": "code",
   "execution_count": 3,
   "metadata": {},
   "outputs": [],
   "source": [
    "X = data.drop(columns='PRICE') # Zielvariable!\n",
    "Y = data.PRICE"
   ]
  },
  {
   "cell_type": "markdown",
   "metadata": {},
   "source": [
    "Data Splitting für Datenexploration"
   ]
  },
  {
   "cell_type": "code",
   "execution_count": 4,
   "metadata": {},
   "outputs": [],
   "source": [
    "from sklearn.model_selection import train_test_split\n",
    "X_train, X_test, y_train, y_test = train_test_split(X,Y,test_size=0.2, random_state=10)"
   ]
  },
  {
   "cell_type": "code",
   "execution_count": 5,
   "metadata": {},
   "outputs": [],
   "source": [
    "df_train = pd.DataFrame(X_train.copy())\n",
    "df_train = df_train.join(pd.DataFrame(y_train))"
   ]
  },
  {
   "cell_type": "code",
   "execution_count": 6,
   "metadata": {},
   "outputs": [
    {
     "data": {
      "text/html": [
       "<div>\n",
       "<style scoped>\n",
       "    .dataframe tbody tr th:only-of-type {\n",
       "        vertical-align: middle;\n",
       "    }\n",
       "\n",
       "    .dataframe tbody tr th {\n",
       "        vertical-align: top;\n",
       "    }\n",
       "\n",
       "    .dataframe thead th {\n",
       "        text-align: right;\n",
       "    }\n",
       "</style>\n",
       "<table border=\"1\" class=\"dataframe\">\n",
       "  <thead>\n",
       "    <tr style=\"text-align: right;\">\n",
       "      <th></th>\n",
       "      <th>CRIM</th>\n",
       "      <th>ZN</th>\n",
       "      <th>INDUS</th>\n",
       "      <th>CHAS</th>\n",
       "      <th>NOX</th>\n",
       "      <th>RM</th>\n",
       "      <th>AGE</th>\n",
       "      <th>DIS</th>\n",
       "      <th>RAD</th>\n",
       "      <th>TAX</th>\n",
       "      <th>PTRATIO</th>\n",
       "      <th>B</th>\n",
       "      <th>LSTAT</th>\n",
       "      <th>PRICE</th>\n",
       "    </tr>\n",
       "  </thead>\n",
       "  <tbody>\n",
       "    <tr>\n",
       "      <th>count</th>\n",
       "      <td>404.000000</td>\n",
       "      <td>404.000000</td>\n",
       "      <td>404.000000</td>\n",
       "      <td>404.000000</td>\n",
       "      <td>404.000000</td>\n",
       "      <td>404.000000</td>\n",
       "      <td>404.000000</td>\n",
       "      <td>404.000000</td>\n",
       "      <td>404.000000</td>\n",
       "      <td>404.000000</td>\n",
       "      <td>404.000000</td>\n",
       "      <td>404.000000</td>\n",
       "      <td>404.000000</td>\n",
       "      <td>404.000000</td>\n",
       "    </tr>\n",
       "    <tr>\n",
       "      <th>mean</th>\n",
       "      <td>3.909295</td>\n",
       "      <td>11.246287</td>\n",
       "      <td>11.546040</td>\n",
       "      <td>0.066832</td>\n",
       "      <td>0.558671</td>\n",
       "      <td>6.239109</td>\n",
       "      <td>69.218069</td>\n",
       "      <td>3.761290</td>\n",
       "      <td>9.935644</td>\n",
       "      <td>417.232673</td>\n",
       "      <td>18.550990</td>\n",
       "      <td>353.553960</td>\n",
       "      <td>13.062277</td>\n",
       "      <td>21.841832</td>\n",
       "    </tr>\n",
       "    <tr>\n",
       "      <th>std</th>\n",
       "      <td>9.096070</td>\n",
       "      <td>23.750865</td>\n",
       "      <td>6.963179</td>\n",
       "      <td>0.250040</td>\n",
       "      <td>0.117771</td>\n",
       "      <td>0.672026</td>\n",
       "      <td>27.955163</td>\n",
       "      <td>2.131902</td>\n",
       "      <td>8.928212</td>\n",
       "      <td>172.215502</td>\n",
       "      <td>2.142011</td>\n",
       "      <td>95.483144</td>\n",
       "      <td>7.062024</td>\n",
       "      <td>8.783611</td>\n",
       "    </tr>\n",
       "    <tr>\n",
       "      <th>min</th>\n",
       "      <td>0.006320</td>\n",
       "      <td>0.000000</td>\n",
       "      <td>0.460000</td>\n",
       "      <td>0.000000</td>\n",
       "      <td>0.385000</td>\n",
       "      <td>3.561000</td>\n",
       "      <td>2.900000</td>\n",
       "      <td>1.137000</td>\n",
       "      <td>1.000000</td>\n",
       "      <td>187.000000</td>\n",
       "      <td>12.600000</td>\n",
       "      <td>0.320000</td>\n",
       "      <td>1.920000</td>\n",
       "      <td>5.000000</td>\n",
       "    </tr>\n",
       "    <tr>\n",
       "      <th>25%</th>\n",
       "      <td>0.083437</td>\n",
       "      <td>0.000000</td>\n",
       "      <td>5.320000</td>\n",
       "      <td>0.000000</td>\n",
       "      <td>0.449000</td>\n",
       "      <td>5.874750</td>\n",
       "      <td>45.675000</td>\n",
       "      <td>2.044600</td>\n",
       "      <td>4.000000</td>\n",
       "      <td>280.750000</td>\n",
       "      <td>17.400000</td>\n",
       "      <td>374.335000</td>\n",
       "      <td>7.525000</td>\n",
       "      <td>16.375000</td>\n",
       "    </tr>\n",
       "    <tr>\n",
       "      <th>50%</th>\n",
       "      <td>0.284585</td>\n",
       "      <td>0.000000</td>\n",
       "      <td>9.900000</td>\n",
       "      <td>0.000000</td>\n",
       "      <td>0.538000</td>\n",
       "      <td>6.163500</td>\n",
       "      <td>77.500000</td>\n",
       "      <td>3.132200</td>\n",
       "      <td>5.000000</td>\n",
       "      <td>345.000000</td>\n",
       "      <td>19.100000</td>\n",
       "      <td>391.305000</td>\n",
       "      <td>11.845000</td>\n",
       "      <td>20.600000</td>\n",
       "    </tr>\n",
       "    <tr>\n",
       "      <th>75%</th>\n",
       "      <td>4.253990</td>\n",
       "      <td>12.500000</td>\n",
       "      <td>18.100000</td>\n",
       "      <td>0.000000</td>\n",
       "      <td>0.631000</td>\n",
       "      <td>6.569000</td>\n",
       "      <td>94.600000</td>\n",
       "      <td>5.035675</td>\n",
       "      <td>24.000000</td>\n",
       "      <td>666.000000</td>\n",
       "      <td>20.200000</td>\n",
       "      <td>396.232500</td>\n",
       "      <td>17.272500</td>\n",
       "      <td>24.625000</td>\n",
       "    </tr>\n",
       "    <tr>\n",
       "      <th>max</th>\n",
       "      <td>88.976200</td>\n",
       "      <td>100.000000</td>\n",
       "      <td>27.740000</td>\n",
       "      <td>1.000000</td>\n",
       "      <td>0.871000</td>\n",
       "      <td>8.780000</td>\n",
       "      <td>100.000000</td>\n",
       "      <td>12.126500</td>\n",
       "      <td>24.000000</td>\n",
       "      <td>711.000000</td>\n",
       "      <td>22.000000</td>\n",
       "      <td>396.900000</td>\n",
       "      <td>37.970000</td>\n",
       "      <td>50.000000</td>\n",
       "    </tr>\n",
       "  </tbody>\n",
       "</table>\n",
       "</div>"
      ],
      "text/plain": [
       "             CRIM          ZN       INDUS        CHAS         NOX          RM  \\\n",
       "count  404.000000  404.000000  404.000000  404.000000  404.000000  404.000000   \n",
       "mean     3.909295   11.246287   11.546040    0.066832    0.558671    6.239109   \n",
       "std      9.096070   23.750865    6.963179    0.250040    0.117771    0.672026   \n",
       "min      0.006320    0.000000    0.460000    0.000000    0.385000    3.561000   \n",
       "25%      0.083437    0.000000    5.320000    0.000000    0.449000    5.874750   \n",
       "50%      0.284585    0.000000    9.900000    0.000000    0.538000    6.163500   \n",
       "75%      4.253990   12.500000   18.100000    0.000000    0.631000    6.569000   \n",
       "max     88.976200  100.000000   27.740000    1.000000    0.871000    8.780000   \n",
       "\n",
       "              AGE         DIS         RAD         TAX     PTRATIO           B  \\\n",
       "count  404.000000  404.000000  404.000000  404.000000  404.000000  404.000000   \n",
       "mean    69.218069    3.761290    9.935644  417.232673   18.550990  353.553960   \n",
       "std     27.955163    2.131902    8.928212  172.215502    2.142011   95.483144   \n",
       "min      2.900000    1.137000    1.000000  187.000000   12.600000    0.320000   \n",
       "25%     45.675000    2.044600    4.000000  280.750000   17.400000  374.335000   \n",
       "50%     77.500000    3.132200    5.000000  345.000000   19.100000  391.305000   \n",
       "75%     94.600000    5.035675   24.000000  666.000000   20.200000  396.232500   \n",
       "max    100.000000   12.126500   24.000000  711.000000   22.000000  396.900000   \n",
       "\n",
       "            LSTAT       PRICE  \n",
       "count  404.000000  404.000000  \n",
       "mean    13.062277   21.841832  \n",
       "std      7.062024    8.783611  \n",
       "min      1.920000    5.000000  \n",
       "25%      7.525000   16.375000  \n",
       "50%     11.845000   20.600000  \n",
       "75%     17.272500   24.625000  \n",
       "max     37.970000   50.000000  "
      ]
     },
     "execution_count": 6,
     "metadata": {},
     "output_type": "execute_result"
    }
   ],
   "source": [
    "df_train.describe()"
   ]
  },
  {
   "cell_type": "markdown",
   "metadata": {},
   "source": [
    "### Datenexploration und Erkenntnisgewinn"
   ]
  },
  {
   "cell_type": "code",
   "execution_count": 7,
   "metadata": {},
   "outputs": [
    {
     "name": "stdout",
     "output_type": "stream",
     "text": [
      "<class 'pandas.core.frame.DataFrame'>\n",
      "Int64Index: 404 entries, 50 to 265\n",
      "Data columns (total 14 columns):\n",
      " #   Column   Non-Null Count  Dtype  \n",
      "---  ------   --------------  -----  \n",
      " 0   CRIM     404 non-null    float64\n",
      " 1   ZN       404 non-null    float64\n",
      " 2   INDUS    404 non-null    float64\n",
      " 3   CHAS     404 non-null    int64  \n",
      " 4   NOX      404 non-null    float64\n",
      " 5   RM       404 non-null    float64\n",
      " 6   AGE      404 non-null    float64\n",
      " 7   DIS      404 non-null    float64\n",
      " 8   RAD      404 non-null    int64  \n",
      " 9   TAX      404 non-null    float64\n",
      " 10  PTRATIO  404 non-null    float64\n",
      " 11  B        404 non-null    float64\n",
      " 12  LSTAT    404 non-null    float64\n",
      " 13  PRICE    404 non-null    float64\n",
      "dtypes: float64(12), int64(2)\n",
      "memory usage: 63.5 KB\n"
     ]
    }
   ],
   "source": [
    "df_train.info()"
   ]
  },
  {
   "cell_type": "markdown",
   "metadata": {},
   "source": [
    "Alle Variablen sind vom Datentyp Float oder int und damit numerisch, somit keine Anpassung am Datentyp notwendig."
   ]
  },
  {
   "cell_type": "code",
   "execution_count": 8,
   "metadata": {},
   "outputs": [
    {
     "data": {
      "text/html": [
       "<div>\n",
       "<style scoped>\n",
       "    .dataframe tbody tr th:only-of-type {\n",
       "        vertical-align: middle;\n",
       "    }\n",
       "\n",
       "    .dataframe tbody tr th {\n",
       "        vertical-align: top;\n",
       "    }\n",
       "\n",
       "    .dataframe thead th {\n",
       "        text-align: right;\n",
       "    }\n",
       "</style>\n",
       "<table border=\"1\" class=\"dataframe\">\n",
       "  <thead>\n",
       "    <tr style=\"text-align: right;\">\n",
       "      <th></th>\n",
       "      <th>CRIM</th>\n",
       "      <th>ZN</th>\n",
       "      <th>INDUS</th>\n",
       "      <th>CHAS</th>\n",
       "      <th>NOX</th>\n",
       "      <th>RM</th>\n",
       "      <th>AGE</th>\n",
       "      <th>DIS</th>\n",
       "      <th>RAD</th>\n",
       "      <th>TAX</th>\n",
       "      <th>PTRATIO</th>\n",
       "      <th>B</th>\n",
       "      <th>LSTAT</th>\n",
       "      <th>PRICE</th>\n",
       "    </tr>\n",
       "  </thead>\n",
       "  <tbody>\n",
       "    <tr>\n",
       "      <th>50</th>\n",
       "      <td>0.08873</td>\n",
       "      <td>21.0</td>\n",
       "      <td>5.64</td>\n",
       "      <td>0</td>\n",
       "      <td>0.439</td>\n",
       "      <td>5.963</td>\n",
       "      <td>45.7</td>\n",
       "      <td>6.8147</td>\n",
       "      <td>4</td>\n",
       "      <td>243.0</td>\n",
       "      <td>16.8</td>\n",
       "      <td>395.56</td>\n",
       "      <td>13.45</td>\n",
       "      <td>19.7</td>\n",
       "    </tr>\n",
       "    <tr>\n",
       "      <th>367</th>\n",
       "      <td>13.52220</td>\n",
       "      <td>0.0</td>\n",
       "      <td>18.10</td>\n",
       "      <td>0</td>\n",
       "      <td>0.631</td>\n",
       "      <td>3.863</td>\n",
       "      <td>100.0</td>\n",
       "      <td>1.5106</td>\n",
       "      <td>24</td>\n",
       "      <td>666.0</td>\n",
       "      <td>20.2</td>\n",
       "      <td>131.42</td>\n",
       "      <td>13.33</td>\n",
       "      <td>23.1</td>\n",
       "    </tr>\n",
       "    <tr>\n",
       "      <th>34</th>\n",
       "      <td>1.61282</td>\n",
       "      <td>0.0</td>\n",
       "      <td>8.14</td>\n",
       "      <td>0</td>\n",
       "      <td>0.538</td>\n",
       "      <td>6.096</td>\n",
       "      <td>96.9</td>\n",
       "      <td>3.7598</td>\n",
       "      <td>4</td>\n",
       "      <td>307.0</td>\n",
       "      <td>21.0</td>\n",
       "      <td>248.31</td>\n",
       "      <td>20.34</td>\n",
       "      <td>13.5</td>\n",
       "    </tr>\n",
       "    <tr>\n",
       "      <th>78</th>\n",
       "      <td>0.05646</td>\n",
       "      <td>0.0</td>\n",
       "      <td>12.83</td>\n",
       "      <td>0</td>\n",
       "      <td>0.437</td>\n",
       "      <td>6.232</td>\n",
       "      <td>53.7</td>\n",
       "      <td>5.0141</td>\n",
       "      <td>5</td>\n",
       "      <td>398.0</td>\n",
       "      <td>18.7</td>\n",
       "      <td>386.40</td>\n",
       "      <td>12.34</td>\n",
       "      <td>21.2</td>\n",
       "    </tr>\n",
       "    <tr>\n",
       "      <th>172</th>\n",
       "      <td>0.13914</td>\n",
       "      <td>0.0</td>\n",
       "      <td>4.05</td>\n",
       "      <td>0</td>\n",
       "      <td>0.510</td>\n",
       "      <td>5.572</td>\n",
       "      <td>88.5</td>\n",
       "      <td>2.5961</td>\n",
       "      <td>5</td>\n",
       "      <td>296.0</td>\n",
       "      <td>16.6</td>\n",
       "      <td>396.90</td>\n",
       "      <td>14.69</td>\n",
       "      <td>23.1</td>\n",
       "    </tr>\n",
       "  </tbody>\n",
       "</table>\n",
       "</div>"
      ],
      "text/plain": [
       "         CRIM    ZN  INDUS  CHAS    NOX     RM    AGE     DIS  RAD    TAX  \\\n",
       "50    0.08873  21.0   5.64     0  0.439  5.963   45.7  6.8147    4  243.0   \n",
       "367  13.52220   0.0  18.10     0  0.631  3.863  100.0  1.5106   24  666.0   \n",
       "34    1.61282   0.0   8.14     0  0.538  6.096   96.9  3.7598    4  307.0   \n",
       "78    0.05646   0.0  12.83     0  0.437  6.232   53.7  5.0141    5  398.0   \n",
       "172   0.13914   0.0   4.05     0  0.510  5.572   88.5  2.5961    5  296.0   \n",
       "\n",
       "     PTRATIO       B  LSTAT  PRICE  \n",
       "50      16.8  395.56  13.45   19.7  \n",
       "367     20.2  131.42  13.33   23.1  \n",
       "34      21.0  248.31  20.34   13.5  \n",
       "78      18.7  386.40  12.34   21.2  \n",
       "172     16.6  396.90  14.69   23.1  "
      ]
     },
     "execution_count": 8,
     "metadata": {},
     "output_type": "execute_result"
    }
   ],
   "source": [
    "df_train.head()"
   ]
  },
  {
   "cell_type": "markdown",
   "metadata": {},
   "source": [
    "Erklärung aller Variablen: </br>\n",
    "CRIM - Pro-Kopf-Verbrechensrate nach Stadt</br>\n",
    "ZN - Anteil der Wohnbauflächen, die für Grundstücke über 25.000 m² ausgewiesen sind.</br>\n",
    "INDUS - Anteil der Flächen für Nicht-Einzelhandelsunternehmen pro Stadt.</br>\n",
    "CHAS - Charles River Dummy-Variable (1, wenn das Gebiet an den Fluss grenzt; sonst 0)</br>\n",
    "NOX - Konzentration von Stickstoffoxiden (Teile pro 10 Millionen)</br>\n",
    "RM - durchschnittliche Anzahl der Zimmer pro Wohnung</br>\n",
    "AGE - Anteil der Eigentumswohnungen, die vor 1940 gebaut wurden</br>\n",
    "DIS - gewichtete Entfernungen zu fünf Beschäftigungszentren/Arbeitsämter</br>\n",
    "RAD - Index der Erreichbarkeit von Radialautobahnen</br>\n",
    "TAX - Vollwertiger Grundsteuersatz pro 10.000 \\$</br>\n",
    "PTRATIO - Schüler-Lehrer-Verhältnis nach Stadt</br>\n",
    "B - 1000(Bk - 0,63)^2, wobei Bk der Anteil der Schwarzen in der Stadt ist </br>\n",
    "LSTAT - % niedrigerer Status der Bevölkerung</br>\n",
    "PRICE - Medianwert der Eigenheime in 1000 \\$</br>"
   ]
  },
  {
   "cell_type": "code",
   "execution_count": 9,
   "metadata": {},
   "outputs": [
    {
     "data": {
      "text/plain": [
       "<AxesSubplot:>"
      ]
     },
     "execution_count": 9,
     "metadata": {},
     "output_type": "execute_result"
    },
    {
     "data": {
      "image/png": "[encoded data removed]",
      "text/plain": [
       "<Figure size 1440x1080 with 2 Axes>"
      ]
     },
     "metadata": {
      "filenames": {
       "image/png": "C:\\Users\\andre\\Desktop\\Semester 7\\Applied Data Analytics\\Classification\\Gerbl-Doku_Backup\\_build\\jupyter_execute\\regression_doku_24_1.png"
      },
      "needs_background": "light"
     },
     "output_type": "display_data"
    }
   ],
   "source": [
    "plt.figure(figsize=(20,15))\n",
    "sns.heatmap(df_train.corr(), annot=True)"
   ]
  },
  {
   "cell_type": "markdown",
   "metadata": {},
   "source": [
    "Erkenntnisgewinn: \n",
    "Da wir den Preis präzise vorhersagen möchten, interessieren uns vor allem die Variablen mit der stärksten negativen oder positiven Korrelation zum Preis.Direkt fällt auf, dass LSTAT eine sehr starke negative Korrelation zu PRICE hat während RM hat eine starke positive Korrelation zu PRICE. Außerdem wird klar, dass viele Variablen eine mittelstarke Korrelation mit der Preisvariable aufweisen. Somit wird interessant zu sehen sein, wie genau das Modell bei der Verwendung aller Variablen werden kann."
   ]
  },
  {
   "cell_type": "markdown",
   "metadata": {},
   "source": [
    "### Datenbereinigung und -transformation"
   ]
  },
  {
   "cell_type": "code",
   "execution_count": 10,
   "metadata": {},
   "outputs": [
    {
     "name": "stdout",
     "output_type": "stream",
     "text": [
      "CRIM       0\n",
      "ZN         0\n",
      "INDUS      0\n",
      "CHAS       0\n",
      "NOX        0\n",
      "RM         0\n",
      "AGE        0\n",
      "DIS        0\n",
      "RAD        0\n",
      "TAX        0\n",
      "PTRATIO    0\n",
      "B          0\n",
      "LSTAT      0\n",
      "PRICE      0\n",
      "dtype: int64\n"
     ]
    }
   ],
   "source": [
    "print(df_train.isnull().sum())"
   ]
  },
  {
   "cell_type": "markdown",
   "metadata": {},
   "source": [
    "Keine fehlenden Werte"
   ]
  },
  {
   "cell_type": "code",
   "execution_count": 11,
   "metadata": {},
   "outputs": [
    {
     "name": "stdout",
     "output_type": "stream",
     "text": [
      "<class 'pandas.core.frame.DataFrame'>\n",
      "Int64Index: 404 entries, 50 to 265\n",
      "Data columns (total 14 columns):\n",
      " #   Column   Non-Null Count  Dtype  \n",
      "---  ------   --------------  -----  \n",
      " 0   CRIM     404 non-null    float64\n",
      " 1   ZN       404 non-null    float64\n",
      " 2   INDUS    404 non-null    float64\n",
      " 3   CHAS     404 non-null    int64  \n",
      " 4   NOX      404 non-null    float64\n",
      " 5   RM       404 non-null    float64\n",
      " 6   AGE      404 non-null    float64\n",
      " 7   DIS      404 non-null    float64\n",
      " 8   RAD      404 non-null    int64  \n",
      " 9   TAX      404 non-null    float64\n",
      " 10  PTRATIO  404 non-null    float64\n",
      " 11  B        404 non-null    float64\n",
      " 12  LSTAT    404 non-null    float64\n",
      " 13  PRICE    404 non-null    float64\n",
      "dtypes: float64(12), int64(2)\n",
      "memory usage: 47.3 KB\n"
     ]
    }
   ],
   "source": [
    "df_train.drop_duplicates(inplace=True)\n",
    "df_train.info() # Vergleich mit vorherigem data.info() un zu sehen, ob Values fehlen"
   ]
  },
  {
   "cell_type": "markdown",
   "metadata": {},
   "source": [
    "Keine Duplikate!"
   ]
  },
  {
   "cell_type": "code",
   "execution_count": 12,
   "metadata": {},
   "outputs": [
    {
     "data": {
      "image/png": "[encoded data removed]",
      "text/plain": [
       "<Figure size 1440x1440 with 16 Axes>"
      ]
     },
     "metadata": {
      "filenames": {
       "image/png": "C:\\Users\\andre\\Desktop\\Semester 7\\Applied Data Analytics\\Classification\\Gerbl-Doku_Backup\\_build\\jupyter_execute\\regression_doku_31_0.png"
      },
      "needs_background": "light"
     },
     "output_type": "display_data"
    }
   ],
   "source": [
    "df_train.hist(bins = 50, figsize = (20,20))\n",
    "plt.show()"
   ]
  },
  {
   "cell_type": "markdown",
   "metadata": {},
   "source": [
    "Die Histogramme zeigen die Verteilung der Daten auf. Es wird bewusst darauf verzichtet, Ausreißer zu elimieren und Feature Scaling zu betreiben, um zu sehen wie die Modelle ohne diese Schritte klar kommen. (RobustScaler später relevant)"
   ]
  },
  {
   "cell_type": "markdown",
   "metadata": {},
   "source": [
    "Datensatz verkleinern, um zu überprüfen, ob die zwei relevantesten Variablen bereits ausreichen, um zufriedenstellende Genauigkeit zu erreichen."
   ]
  },
  {
   "cell_type": "code",
   "execution_count": 13,
   "metadata": {},
   "outputs": [
    {
     "data": {
      "text/plain": [
       "<seaborn.axisgrid.PairGrid at 0x20d46fbc630>"
      ]
     },
     "execution_count": 13,
     "metadata": {},
     "output_type": "execute_result"
    },
    {
     "data": {
      "image/png": "[encoded data removed]",
      "text/plain": [
       "<Figure size 540x540 with 12 Axes>"
      ]
     },
     "metadata": {
      "filenames": {
       "image/png": "C:\\Users\\andre\\Desktop\\Semester 7\\Applied Data Analytics\\Classification\\Gerbl-Doku_Backup\\_build\\jupyter_execute\\regression_doku_34_1.png"
      },
      "needs_background": "light"
     },
     "output_type": "display_data"
    }
   ],
   "source": [
    "df_train = df_train.drop(df_train.columns[[0, 1, 2, 3, 4, 6,7,8,9,10,11]], axis=1)\n",
    "sns.pairplot(df_train)"
   ]
  },
  {
   "cell_type": "markdown",
   "metadata": {},
   "source": [
    "Variablen scheinen nahezu normalverteilt zu sein und wenig Ausreißer zu besitzen. "
   ]
  },
  {
   "cell_type": "markdown",
   "metadata": {},
   "source": [
    "Nun wird das Dataset auf die ausgewählten Variablen beschränkt und für die Evaluation gesplittet."
   ]
  },
  {
   "cell_type": "code",
   "execution_count": 14,
   "metadata": {},
   "outputs": [],
   "source": [
    "data = data.drop(data.columns[[0, 1, 2, 3, 4, 6,7,8,9,10,11]], axis=1)"
   ]
  },
  {
   "cell_type": "code",
   "execution_count": 15,
   "metadata": {},
   "outputs": [],
   "source": [
    "X = data.drop(columns='PRICE')\n",
    "Y = data.PRICE"
   ]
  },
  {
   "cell_type": "code",
   "execution_count": 16,
   "metadata": {},
   "outputs": [],
   "source": [
    "from sklearn.model_selection import train_test_split\n",
    "X_train, X_test, y_train, y_test = train_test_split(X,Y,test_size=0.2, random_state=1)"
   ]
  },
  {
   "cell_type": "markdown",
   "metadata": {},
   "source": [
    "## Modell"
   ]
  },
  {
   "cell_type": "markdown",
   "metadata": {},
   "source": [
    "### Vorgehensweise: \n",
    "\n",
    "Regressionsmodell mit ausgewählten Variablen anhand von Trainingsdaten trainieren sowie Regressionsgeraden einzeichnen</br>\n",
    "Trainiertes Modell evaluieren anhand Metriken und Residplot</br>\n",
    "Regressionsmodell mit Testdaten evaluieren (Metriken, Regressionsgeraden und Residplot)</br>\n",
    "Regressionsmodell mit allen Variablen/Features trainieren und evaluieren (Residplot und Metriken)</br>\n",
    "Trainiertes Modell mit Testdaten evaluieren (Residplot und Metriken)</br>\n",
    "Weiteres Regressionsmodell mit anderem Algorithmus erstellen (Training + Test durch Metriken udn Residplot)</br>\n",
    "Metriken der Modelle vergleichen</br>\n",
    "Lineares Regressionsmodell mit Scaler verbessern (Evaluation durch Metriken und Residplot)</br>\n",
    "Interpretation</br>"
   ]
  },
  {
   "cell_type": "markdown",
   "metadata": {},
   "source": [
    "### Modellauswahl\n",
    "\n",
    "Da es sich um eine recht einfache Regressionsaufgabe handelt, ist der Einsatz eines linearen Modells zu empfehlen. Für einen adäquaten Vergleich werden beide Modelle auf den LinearRegression Algorithmus beruhen. Durch Ensemble-Methoden können daraufhin die Modelle noch genauer analysieren und durch RobustScaler kann die Genauigkeit (Bestimmtheitsmaß) weiter verbessert werden."
   ]
  },
  {
   "cell_type": "markdown",
   "metadata": {},
   "source": [
    "### Modellerstellung"
   ]
  },
  {
   "cell_type": "markdown",
   "metadata": {},
   "source": [
    "Modelltraining mit Trainingsdaten"
   ]
  },
  {
   "cell_type": "code",
   "execution_count": 17,
   "metadata": {},
   "outputs": [],
   "source": [
    "from sklearn.linear_model import LinearRegression\n",
    "from sklearn.metrics import r2_score\n",
    "linreg = LinearRegression()\n",
    "linreg.fit(X_train,y_train)\n",
    "y_pred = linreg.predict(X_train)"
   ]
  },
  {
   "cell_type": "markdown",
   "metadata": {},
   "source": [
    "Modelevaluation"
   ]
  },
  {
   "cell_type": "code",
   "execution_count": 18,
   "metadata": {},
   "outputs": [
    {
     "name": "stdout",
     "output_type": "stream",
     "text": [
      "R^2: 0.6251836356449056\n",
      "Adjusted R^2: 0.6233142273438828\n",
      "MAE: 3.888350061949802\n",
      "MSE: 30.278185000751513\n",
      "RMSE: 5.5025616762333085\n"
     ]
    }
   ],
   "source": [
    "from sklearn import metrics\n",
    "from math import sqrt\n",
    "print('R^2:',metrics.r2_score(y_train, y_pred))\n",
    "print('Adjusted R^2:',1 - (1-metrics.r2_score(y_train, y_pred))*(len(y_train)-1)/(len(y_train)-X_train.shape[1]-1))\n",
    "print('MAE:',metrics.mean_absolute_error(y_train, y_pred))\n",
    "print('MSE:',metrics.mean_squared_error(y_train, y_pred))\n",
    "print('RMSE:',np.sqrt(metrics.mean_squared_error(y_train, y_pred)))"
   ]
  },
  {
   "cell_type": "markdown",
   "metadata": {},
   "source": [
    "Bestimmtheitsmaß R^2 (genauer adjusted R^2) beschreibt die Anpassungsgüte der Regression und dient für uns hier neben dem RMSE (Wurzel der mittleren Fehlerquadratsumme) als Hauptbewertungskriterium für die Modelle."
   ]
  },
  {
   "cell_type": "code",
   "execution_count": 19,
   "metadata": {},
   "outputs": [
    {
     "ename": "ModuleNotFoundError",
     "evalue": "No module named 'statsmodels'",
     "output_type": "error",
     "traceback": [
      "\u001b[1;31m---------------------------------------------------------------------------\u001b[0m",
      "\u001b[1;31mModuleNotFoundError\u001b[0m                       Traceback (most recent call last)",
      "\u001b[1;32m~\\AppData\\Local\\Temp\\ipykernel_8020\\2939536432.py\u001b[0m in \u001b[0;36m<module>\u001b[1;34m\u001b[0m\n\u001b[0;32m      1\u001b[0m px.scatter(x=X_train['RM'], y=y_train, opacity=0.65, \n\u001b[1;32m----> 2\u001b[1;33m                 trendline='ols', trendline_color_override='red')\n\u001b[0m",
      "\u001b[1;32mc:\\users\\andre\\appdata\\local\\programs\\python\\python37\\lib\\site-packages\\plotly\\express\\_chart_types.py\u001b[0m in \u001b[0;36mscatter\u001b[1;34m(data_frame, x, y, color, symbol, size, hover_name, hover_data, custom_data, text, facet_row, facet_col, facet_col_wrap, facet_row_spacing, facet_col_spacing, error_x, error_x_minus, error_y, error_y_minus, animation_frame, animation_group, category_orders, labels, orientation, color_discrete_sequence, color_discrete_map, color_continuous_scale, range_color, color_continuous_midpoint, symbol_sequence, symbol_map, opacity, size_max, marginal_x, marginal_y, trendline, trendline_options, trendline_color_override, trendline_scope, log_x, log_y, range_x, range_y, render_mode, title, template, width, height)\u001b[0m\n\u001b[0;32m     64\u001b[0m     \u001b[0mmark\u001b[0m \u001b[1;32min\u001b[0m \u001b[1;36m2\u001b[0m\u001b[0mD\u001b[0m \u001b[0mspace\u001b[0m\u001b[1;33m.\u001b[0m\u001b[1;33m\u001b[0m\u001b[1;33m\u001b[0m\u001b[0m\n\u001b[0;32m     65\u001b[0m     \"\"\"\n\u001b[1;32m---> 66\u001b[1;33m     \u001b[1;32mreturn\u001b[0m \u001b[0mmake_figure\u001b[0m\u001b[1;33m(\u001b[0m\u001b[0margs\u001b[0m\u001b[1;33m=\u001b[0m\u001b[0mlocals\u001b[0m\u001b[1;33m(\u001b[0m\u001b[1;33m)\u001b[0m\u001b[1;33m,\u001b[0m \u001b[0mconstructor\u001b[0m\u001b[1;33m=\u001b[0m\u001b[0mgo\u001b[0m\u001b[1;33m.\u001b[0m\u001b[0mScatter\u001b[0m\u001b[1;33m)\u001b[0m\u001b[1;33m\u001b[0m\u001b[1;33m\u001b[0m\u001b[0m\n\u001b[0m\u001b[0;32m     67\u001b[0m \u001b[1;33m\u001b[0m\u001b[0m\n\u001b[0;32m     68\u001b[0m \u001b[1;33m\u001b[0m\u001b[0m\n",
      "\u001b[1;32mc:\\users\\andre\\appdata\\local\\programs\\python\\python37\\lib\\site-packages\\plotly\\express\\_core.py\u001b[0m in \u001b[0;36mmake_figure\u001b[1;34m(args, constructor, trace_patch, layout_patch)\u001b[0m\n\u001b[0;32m   2122\u001b[0m \u001b[1;33m\u001b[0m\u001b[0m\n\u001b[0;32m   2123\u001b[0m             patch, fit_results = make_trace_kwargs(\n\u001b[1;32m-> 2124\u001b[1;33m                 \u001b[0margs\u001b[0m\u001b[1;33m,\u001b[0m \u001b[0mtrace_spec\u001b[0m\u001b[1;33m,\u001b[0m \u001b[0mgroup\u001b[0m\u001b[1;33m,\u001b[0m \u001b[0mmapping_labels\u001b[0m\u001b[1;33m.\u001b[0m\u001b[0mcopy\u001b[0m\u001b[1;33m(\u001b[0m\u001b[1;33m)\u001b[0m\u001b[1;33m,\u001b[0m \u001b[0msizeref\u001b[0m\u001b[1;33m\u001b[0m\u001b[1;33m\u001b[0m\u001b[0m\n\u001b[0m\u001b[0;32m   2125\u001b[0m             )\n\u001b[0;32m   2126\u001b[0m             \u001b[0mtrace\u001b[0m\u001b[1;33m.\u001b[0m\u001b[0mupdate\u001b[0m\u001b[1;33m(\u001b[0m\u001b[0mpatch\u001b[0m\u001b[1;33m)\u001b[0m\u001b[1;33m\u001b[0m\u001b[1;33m\u001b[0m\u001b[0m\n",
      "\u001b[1;32mc:\\users\\andre\\appdata\\local\\programs\\python\\python37\\lib\\site-packages\\plotly\\express\\_core.py\u001b[0m in \u001b[0;36mmake_trace_kwargs\u001b[1;34m(args, trace_spec, trace_data, mapping_labels, sizeref)\u001b[0m\n\u001b[0;32m    363\u001b[0m                         \u001b[0margs\u001b[0m\u001b[1;33m[\u001b[0m\u001b[1;34m\"x\"\u001b[0m\u001b[1;33m]\u001b[0m\u001b[1;33m,\u001b[0m\u001b[1;33m\u001b[0m\u001b[1;33m\u001b[0m\u001b[0m\n\u001b[0;32m    364\u001b[0m                         \u001b[0margs\u001b[0m\u001b[1;33m[\u001b[0m\u001b[1;34m\"y\"\u001b[0m\u001b[1;33m]\u001b[0m\u001b[1;33m,\u001b[0m\u001b[1;33m\u001b[0m\u001b[1;33m\u001b[0m\u001b[0m\n\u001b[1;32m--> 365\u001b[1;33m                         \u001b[0mnon_missing\u001b[0m\u001b[1;33m,\u001b[0m\u001b[1;33m\u001b[0m\u001b[1;33m\u001b[0m\u001b[0m\n\u001b[0m\u001b[0;32m    366\u001b[0m                     )\n\u001b[0;32m    367\u001b[0m                     assert len(y_out) == len(\n",
      "\u001b[1;32mc:\\users\\andre\\appdata\\local\\programs\\python\\python37\\lib\\site-packages\\plotly\\express\\trendline_functions\\__init__.py\u001b[0m in \u001b[0;36mols\u001b[1;34m(trendline_options, x_raw, x, y, x_label, y_label, non_missing)\u001b[0m\n\u001b[0;32m     41\u001b[0m             )\n\u001b[0;32m     42\u001b[0m \u001b[1;33m\u001b[0m\u001b[0m\n\u001b[1;32m---> 43\u001b[1;33m     \u001b[1;32mimport\u001b[0m \u001b[0mstatsmodels\u001b[0m\u001b[1;33m.\u001b[0m\u001b[0mapi\u001b[0m \u001b[1;32mas\u001b[0m \u001b[0msm\u001b[0m\u001b[1;33m\u001b[0m\u001b[1;33m\u001b[0m\u001b[0m\n\u001b[0m\u001b[0;32m     44\u001b[0m \u001b[1;33m\u001b[0m\u001b[0m\n\u001b[0;32m     45\u001b[0m     \u001b[0madd_constant\u001b[0m \u001b[1;33m=\u001b[0m \u001b[0mtrendline_options\u001b[0m\u001b[1;33m.\u001b[0m\u001b[0mget\u001b[0m\u001b[1;33m(\u001b[0m\u001b[1;34m\"add_constant\"\u001b[0m\u001b[1;33m,\u001b[0m \u001b[1;32mTrue\u001b[0m\u001b[1;33m)\u001b[0m\u001b[1;33m\u001b[0m\u001b[1;33m\u001b[0m\u001b[0m\n",
      "\u001b[1;31mModuleNotFoundError\u001b[0m: No module named 'statsmodels'"
     ]
    }
   ],
   "source": [
    "px.scatter(x=X_train['RM'], y=y_train, opacity=0.65, \n",
    "                trendline='ols', trendline_color_override='red')"
   ]
  },
  {
   "cell_type": "markdown",
   "metadata": {},
   "source": [
    "Regressionsgerade für RM (durchschnittliche Anzahl der Zimmer pro Wohnung)"
   ]
  },
  {
   "cell_type": "code",
   "execution_count": 60,
   "metadata": {},
   "outputs": [
    {
     "data": {
      "application/vnd.plotly.v1+json": {
       "config": {
        "plotlyServerURL": "https://plot.ly"
       },
       "data": [
        {
         "hovertemplate": "x=%{x}<br>y=%{y}<extra></extra>",
         "legendgroup": "",
         "marker": {
          "color": "#636efa",
          "opacity": 0.65,
          "symbol": "circle"
         },
         "mode": "markers",
         "name": "",
         "orientation": "v",
         "showlegend": false,
         "type": "scatter",
         "x": [
          5.81,
          6.86,
          30.81,
          12.34,
          17.16,
          5.5,
          13.15,
          7.67,
          3.16,
          9.04,
          21.52,
          6.47,
          7.79,
          2.87,
          9.74,
          11.69,
          1.98,
          7.44,
          9.97,
          18.71,
          4.84,
          14.19,
          9.51,
          12.92,
          8.58,
          9.08,
          14.69,
          5.29,
          14.15,
          10.36,
          6.21,
          25.68,
          7.22,
          6.93,
          26.82,
          19.01,
          7.56,
          17.21,
          5.57,
          18.46,
          18.66,
          6.36,
          3.33,
          9.16,
          7.2,
          21.32,
          6.65,
          17.93,
          9.59,
          19.88,
          8.26,
          14.44,
          21.24,
          4.32,
          7.12,
          7.73,
          14.66,
          9.54,
          3.57,
          5.29,
          6.56,
          15.7,
          14.1,
          12.93,
          6.36,
          23.69,
          17.19,
          6.72,
          10.29,
          18.06,
          17.28,
          5.7,
          14.76,
          7.54,
          6.68,
          12.03,
          1.73,
          8.79,
          21.46,
          8.2,
          21.22,
          8.61,
          24.56,
          14.81,
          10.15,
          6.58,
          9.22,
          14.37,
          15.71,
          18.13,
          13,
          13.44,
          7.88,
          14.7,
          4.59,
          9.29,
          4.45,
          8.88,
          16.59,
          34.37,
          9.38,
          17.27,
          12.67,
          6.27,
          5.5,
          7.7,
          12.26,
          17.58,
          9.64,
          14.65,
          4.69,
          10.26,
          13.34,
          5.9,
          25.41,
          21.32,
          10.16,
          9.43,
          10.58,
          16.21,
          17.1,
          11.28,
          6.58,
          5.49,
          4.98,
          21.78,
          16.47,
          4.16,
          17.44,
          18.06,
          6.07,
          11.65,
          24.08,
          6.72,
          11.74,
          3.11,
          3.16,
          10.13,
          14.1,
          34.02,
          12.01,
          3.32,
          12.14,
          3.53,
          10.97,
          12.5,
          4.56,
          18.05,
          18.68,
          27.8,
          2.98,
          12.03,
          19.77,
          5.89,
          16.22,
          10.11,
          8.93,
          7.85,
          12.43,
          5.33,
          26.64,
          14.64,
          3.76,
          19.78,
          3.92,
          9.42,
          26.4,
          8.43,
          6.36,
          18.14,
          6.48,
          15.12,
          3.59,
          6.43,
          6.59,
          9.55,
          11.45,
          17.09,
          26.77,
          23.98,
          12.27,
          11.32,
          9.1,
          24.91,
          9.62,
          29.93,
          27.71,
          6.19,
          22.11,
          25.79,
          9.93,
          12.8,
          7.14,
          37.97,
          4.81,
          10.74,
          7.01,
          29.05,
          30.81,
          20.62,
          11.48,
          18.35,
          9.68,
          9.5,
          27.38,
          12.64,
          8.05,
          17.6,
          10.21,
          4.86,
          6.29,
          10.5,
          17.73,
          7.39,
          13.83,
          9.52,
          9.97,
          4.56,
          14.59,
          16.3,
          13.98,
          10.87,
          17.31,
          4.74,
          12.04,
          16.03,
          16.94,
          15.17,
          19.52,
          5.25,
          9.69,
          5.77,
          17.15,
          20.32,
          34.77,
          22.88,
          9.45,
          4.21,
          10.45,
          7.19,
          15.37,
          23.6,
          14.43,
          26.45,
          14.8,
          10.11,
          12.79,
          4.38,
          6.62,
          7.79,
          14.36,
          4.82,
          36.98,
          8.05,
          13.44,
          9.71,
          12.6,
          4.5,
          8.51,
          3.26,
          13.15,
          10.59,
          5.03,
          24.16,
          28.32,
          3.11,
          12.12,
          10.56,
          13.11,
          20.45,
          13.65,
          11.34,
          17.27,
          11.38,
          3.95,
          9.5,
          30.62,
          12.67,
          11.41,
          16.74,
          21.02,
          23.98,
          7.83,
          8.94,
          4.45,
          10.27,
          11.25,
          15.1,
          21.45,
          23.79,
          4.03,
          5.28,
          5.91,
          3.54,
          13.99,
          6.9,
          5.68,
          3.73,
          6.87,
          5.68,
          13.28,
          16.23,
          8.67,
          5.1,
          6.78,
          5.99,
          5.19,
          23.97,
          8.44,
          7.37,
          26.42,
          23.29,
          14.79,
          7.6,
          16.9,
          3.7,
          7.51,
          21.14,
          15.02,
          17.6,
          21.08,
          4.85,
          27.26,
          2.97,
          10.45,
          14.13,
          12.33,
          15.79,
          3.01,
          18.76,
          3.13,
          13.33,
          16.51,
          4.08,
          8.05,
          8.47,
          15.84,
          9.53,
          15.55,
          9.8,
          4.54,
          14.81,
          11.97,
          7.44,
          3.76,
          2.94,
          13.22,
          16.2,
          22.98,
          31.99,
          13.35,
          22.6,
          14.27,
          19.69,
          15.76,
          16.29,
          13.51,
          8.1,
          23.09,
          18.33,
          30.63,
          9.14,
          7.9,
          18.72,
          15.94,
          12.73,
          19.15,
          14.33,
          34.41,
          12.86,
          7.79,
          12.4,
          12.87,
          9.47,
          13.09,
          13.45,
          30.59,
          20.08,
          16.14,
          3.53,
          17.12,
          18.13,
          20.31,
          13.27,
          6.57,
          6.05,
          6.92,
          4.59,
          17.11,
          4.73,
          9.88,
          16.42,
          18.34,
          29.29,
          18.13,
          8.01,
          15.03,
          3.81,
          15.17,
          9.25,
          5.52,
          19.37,
          10.88,
          8.77
         ],
         "xaxis": "x",
         "y": [
          25.3,
          23.3,
          7.2,
          21.2,
          11.7,
          27,
          29.6,
          26.5,
          43.5,
          23.6,
          11,
          33.4,
          36,
          36.4,
          19,
          20.2,
          34.9,
          50,
          19.3,
          14.9,
          26.6,
          19.9,
          24.8,
          21.2,
          23.9,
          20.6,
          23.1,
          28,
          20,
          23.1,
          25,
          9.7,
          23.9,
          36.1,
          13.4,
          12.7,
          39.8,
          10.4,
          20.6,
          17.8,
          19.5,
          23.7,
          28.5,
          24.3,
          23.8,
          19.1,
          28.4,
          20.5,
          33.8,
          14.5,
          20.4,
          16,
          13.3,
          30.8,
          27.5,
          24.4,
          24.4,
          25.1,
          43.8,
          21.9,
          26.2,
          14.2,
          20.8,
          20.1,
          23.1,
          13.1,
          16.2,
          24.8,
          20.2,
          22.5,
          14.8,
          28.7,
          20.1,
          23.4,
          32,
          19.1,
          50,
          20.9,
          21.7,
          22,
          17.2,
          30.3,
          12.3,
          21.4,
          20.5,
          35.2,
          19.6,
          22,
          21.7,
          14.1,
          21.1,
          15,
          11.9,
          20,
          41.3,
          18.7,
          50,
          50,
          18.4,
          17.9,
          28.1,
          16.1,
          17.2,
          28.6,
          23.6,
          20.4,
          19.6,
          18.8,
          22.6,
          17.7,
          30.5,
          18.2,
          20.6,
          24.4,
          17.3,
          13.3,
          22.8,
          20.5,
          21.2,
          18.8,
          18.9,
          18.2,
          23.1,
          32.7,
          24,
          10.2,
          19.5,
          33.1,
          13.4,
          15.2,
          24.8,
          24.3,
          9.5,
          24.2,
          18.5,
          44,
          50,
          24.7,
          21.5,
          8.4,
          21.8,
          50,
          23.8,
          32.4,
          24.4,
          17.6,
          29.8,
          9.6,
          16.7,
          13.8,
          32,
          16.1,
          8.3,
          26.6,
          14.3,
          15,
          28.4,
          32.2,
          17.1,
          29.4,
          10.4,
          16.8,
          31.5,
          27.5,
          46.7,
          27.5,
          17.2,
          23.4,
          31.6,
          13.8,
          22,
          17,
          24.8,
          24.3,
          25.2,
          21.2,
          20.6,
          18.7,
          5.6,
          19.3,
          19.8,
          22.3,
          20.3,
          12,
          23.9,
          16.5,
          13.2,
          33.2,
          10.5,
          7.5,
          27.5,
          18.4,
          23.2,
          13.8,
          35.4,
          23,
          25,
          7.2,
          14.4,
          8.8,
          22.7,
          13.1,
          18.9,
          25,
          8.5,
          16.1,
          29,
          23.1,
          19.3,
          33.1,
          24.6,
          23,
          15.2,
          27.1,
          19.6,
          24.5,
          20.3,
          34.9,
          17.1,
          15.6,
          26.4,
          22.6,
          15.6,
          29,
          21.2,
          22.4,
          13.5,
          11.7,
          17.1,
          31.7,
          28.7,
          24.7,
          19,
          7.2,
          13.8,
          12.8,
          36.2,
          38.7,
          18.5,
          29.1,
          20.4,
          11.3,
          17.4,
          8.7,
          18.9,
          23.2,
          22.2,
          29.1,
          34.6,
          25,
          23.2,
          37.9,
          7,
          18.2,
          19.3,
          26.7,
          19.2,
          30.1,
          20.6,
          50,
          18.7,
          20.6,
          31.1,
          14,
          17.8,
          42.3,
          15.3,
          18.5,
          21.4,
          15,
          20.7,
          21.4,
          21.7,
          22,
          31.6,
          22,
          10.2,
          22.6,
          20,
          17.8,
          13.6,
          11.8,
          19.4,
          21.4,
          32.9,
          20.8,
          31,
          17.5,
          15.4,
          10.8,
          34.7,
          25,
          48.8,
          42.8,
          19.5,
          30.1,
          22.2,
          50,
          23.1,
          32.5,
          19.6,
          14.9,
          26.4,
          37,
          24.1,
          24.5,
          23.7,
          7,
          22.2,
          23.3,
          15.6,
          13.4,
          30.7,
          22.3,
          17.4,
          50,
          22.9,
          19.7,
          15.6,
          17.8,
          10.9,
          35.1,
          15.7,
          50,
          22.8,
          19.9,
          20.1,
          19.4,
          46,
          23.2,
          37.6,
          23.1,
          13.9,
          33.3,
          33,
          19.9,
          20.3,
          50,
          19.4,
          19.5,
          22.8,
          16.6,
          20,
          24.7,
          45.4,
          33.4,
          21.4,
          19.4,
          5,
          7.4,
          20.1,
          12.7,
          20.3,
          14.1,
          18.3,
          19.9,
          23.3,
          36.5,
          20,
          17.8,
          8.8,
          21.6,
          21.6,
          15.2,
          19.8,
          21,
          27.1,
          16.8,
          14.4,
          22.5,
          18.6,
          20.1,
          19.6,
          25,
          17.4,
          19.7,
          5,
          16.3,
          13.1,
          29.6,
          13.1,
          19.1,
          12.1,
          21.7,
          21.9,
          33.2,
          29.9,
          35.4,
          15.1,
          31.5,
          21.7,
          16.4,
          14.3,
          11.8,
          14.1,
          21.1,
          18.4,
          48.5,
          13.8,
          20.9,
          22.8,
          12.5,
          24,
          21
         ],
         "yaxis": "y"
        },
        {
         "hovertemplate": "<b>OLS trendline</b><br>y = -0.924417 * x + 34.335<br>R<sup>2</sup>=0.549528<br><br>x=%{x}<br>y=%{y} <b>(trend)</b><extra></extra>",
         "legendgroup": "",
         "line": {
          "color": "red"
         },
         "marker": {
          "color": "#636efa",
          "symbol": "circle"
         },
         "mode": "lines",
         "name": "",
         "showlegend": false,
         "type": "scatter",
         "x": [
          1.73,
          1.98,
          2.87,
          2.94,
          2.97,
          2.98,
          3.01,
          3.11,
          3.11,
          3.13,
          3.16,
          3.16,
          3.26,
          3.32,
          3.33,
          3.53,
          3.53,
          3.54,
          3.57,
          3.59,
          3.7,
          3.73,
          3.76,
          3.76,
          3.81,
          3.92,
          3.95,
          4.03,
          4.08,
          4.16,
          4.21,
          4.32,
          4.38,
          4.45,
          4.45,
          4.5,
          4.54,
          4.56,
          4.56,
          4.59,
          4.59,
          4.69,
          4.73,
          4.74,
          4.81,
          4.82,
          4.84,
          4.85,
          4.86,
          4.98,
          5.03,
          5.1,
          5.19,
          5.25,
          5.28,
          5.29,
          5.29,
          5.33,
          5.49,
          5.5,
          5.5,
          5.52,
          5.57,
          5.68,
          5.68,
          5.7,
          5.77,
          5.81,
          5.89,
          5.9,
          5.91,
          5.99,
          6.05,
          6.07,
          6.19,
          6.21,
          6.27,
          6.29,
          6.36,
          6.36,
          6.36,
          6.43,
          6.47,
          6.48,
          6.56,
          6.57,
          6.58,
          6.58,
          6.59,
          6.62,
          6.65,
          6.68,
          6.72,
          6.72,
          6.78,
          6.86,
          6.87,
          6.9,
          6.92,
          6.93,
          7.01,
          7.12,
          7.14,
          7.19,
          7.2,
          7.22,
          7.37,
          7.39,
          7.44,
          7.44,
          7.51,
          7.54,
          7.56,
          7.6,
          7.67,
          7.7,
          7.73,
          7.79,
          7.79,
          7.79,
          7.83,
          7.85,
          7.88,
          7.9,
          8.01,
          8.05,
          8.05,
          8.05,
          8.1,
          8.2,
          8.26,
          8.43,
          8.44,
          8.47,
          8.51,
          8.58,
          8.61,
          8.67,
          8.77,
          8.79,
          8.88,
          8.93,
          8.94,
          9.04,
          9.08,
          9.1,
          9.14,
          9.16,
          9.22,
          9.25,
          9.29,
          9.38,
          9.42,
          9.43,
          9.45,
          9.47,
          9.5,
          9.5,
          9.51,
          9.52,
          9.53,
          9.54,
          9.55,
          9.59,
          9.62,
          9.64,
          9.68,
          9.69,
          9.71,
          9.74,
          9.8,
          9.88,
          9.93,
          9.97,
          9.97,
          10.11,
          10.11,
          10.13,
          10.15,
          10.16,
          10.21,
          10.26,
          10.27,
          10.29,
          10.36,
          10.45,
          10.45,
          10.5,
          10.56,
          10.58,
          10.59,
          10.74,
          10.87,
          10.88,
          10.97,
          11.25,
          11.28,
          11.32,
          11.34,
          11.38,
          11.41,
          11.45,
          11.48,
          11.65,
          11.69,
          11.74,
          11.97,
          12.01,
          12.03,
          12.03,
          12.04,
          12.12,
          12.14,
          12.26,
          12.27,
          12.33,
          12.34,
          12.4,
          12.43,
          12.5,
          12.6,
          12.64,
          12.67,
          12.67,
          12.73,
          12.79,
          12.8,
          12.86,
          12.87,
          12.92,
          12.93,
          13,
          13.09,
          13.11,
          13.15,
          13.15,
          13.22,
          13.27,
          13.28,
          13.33,
          13.34,
          13.35,
          13.44,
          13.44,
          13.45,
          13.51,
          13.65,
          13.83,
          13.98,
          13.99,
          14.1,
          14.1,
          14.13,
          14.15,
          14.19,
          14.27,
          14.33,
          14.36,
          14.37,
          14.43,
          14.44,
          14.59,
          14.64,
          14.65,
          14.66,
          14.69,
          14.7,
          14.76,
          14.79,
          14.8,
          14.81,
          14.81,
          15.02,
          15.03,
          15.1,
          15.12,
          15.17,
          15.17,
          15.37,
          15.55,
          15.7,
          15.71,
          15.76,
          15.79,
          15.84,
          15.94,
          16.03,
          16.14,
          16.2,
          16.21,
          16.22,
          16.23,
          16.29,
          16.3,
          16.42,
          16.47,
          16.51,
          16.59,
          16.74,
          16.9,
          16.94,
          17.09,
          17.1,
          17.11,
          17.12,
          17.15,
          17.16,
          17.19,
          17.21,
          17.27,
          17.27,
          17.28,
          17.31,
          17.44,
          17.58,
          17.6,
          17.6,
          17.73,
          17.93,
          18.05,
          18.06,
          18.06,
          18.13,
          18.13,
          18.13,
          18.14,
          18.33,
          18.34,
          18.35,
          18.46,
          18.66,
          18.68,
          18.71,
          18.72,
          18.76,
          19.01,
          19.15,
          19.37,
          19.52,
          19.69,
          19.77,
          19.78,
          19.88,
          20.08,
          20.31,
          20.32,
          20.45,
          20.62,
          21.02,
          21.08,
          21.14,
          21.22,
          21.24,
          21.32,
          21.32,
          21.45,
          21.46,
          21.52,
          21.78,
          22.11,
          22.6,
          22.88,
          22.98,
          23.09,
          23.29,
          23.6,
          23.69,
          23.79,
          23.97,
          23.98,
          23.98,
          24.08,
          24.16,
          24.56,
          24.91,
          25.41,
          25.68,
          25.79,
          26.4,
          26.42,
          26.45,
          26.64,
          26.77,
          26.82,
          27.26,
          27.38,
          27.71,
          27.8,
          28.32,
          29.05,
          29.29,
          29.93,
          30.59,
          30.62,
          30.63,
          30.81,
          30.81,
          31.99,
          34.02,
          34.37,
          34.41,
          34.77,
          36.98,
          37.97
         ],
         "xaxis": "x",
         "y": [
          32.73573672102102,
          32.50463243349968,
          31.681901169923716,
          31.61719196941774,
          31.58945945491518,
          31.580215283414326,
          31.552482768911766,
          31.460041053903232,
          31.460041053903232,
          31.441552710901522,
          31.413820196398962,
          31.413820196398962,
          31.32137848139043,
          31.265913452385306,
          31.256669280884452,
          31.071785850867382,
          31.071785850867382,
          31.06254167936653,
          31.03480916486397,
          31.016320821862262,
          30.914634935352872,
          30.886902420850312,
          30.859169906347752,
          30.859169906347752,
          30.812949048843482,
          30.711263162334095,
          30.68353064783153,
          30.609577275824705,
          30.56335641832044,
          30.48940304631361,
          30.44318218880934,
          30.34149630229995,
          30.28603127329483,
          30.22132207278886,
          30.22132207278886,
          30.175101215284588,
          30.138124529281175,
          30.119636186279468,
          30.119636186279468,
          30.091903671776908,
          30.091903671776908,
          29.99946195676837,
          29.962485270764958,
          29.953241099264105,
          29.88853189875813,
          29.879287727257275,
          29.860799384255568,
          29.851555212754715,
          29.84231104125386,
          29.731380983243618,
          29.68516012573935,
          29.620450925233378,
          29.537253381725694,
          29.481788352720574,
          29.45405583821801,
          29.444811666717158,
          29.444811666717158,
          29.407834980713744,
          29.259928236700087,
          29.250684065199234,
          29.250684065199234,
          29.232195722197527,
          29.18597486469326,
          29.08428897818387,
          29.08428897818387,
          29.065800635182164,
          29.00109143467619,
          28.964114748672777,
          28.890161376665947,
          28.880917205165094,
          28.87167303366424,
          28.79771966165741,
          28.74225463265229,
          28.723766289650584,
          28.61283623164034,
          28.594347888638634,
          28.538882859633514,
          28.520394516631804,
          28.45568531612583,
          28.45568531612583,
          28.45568531612583,
          28.390976115619857,
          28.353999429616444,
          28.344755258115587,
          28.27080188610876,
          28.261557714607907,
          28.252313543107054,
          28.252313543107054,
          28.2430693716062,
          28.215336857103637,
          28.187604342601077,
          28.159871828098517,
          28.122895142095103,
          28.122895142095103,
          28.067430113089983,
          27.993476741083153,
          27.9842325695823,
          27.95650005507974,
          27.938011712078033,
          27.92876754057718,
          27.85481416857035,
          27.753128282060963,
          27.734639939059257,
          27.688419081554986,
          27.679174910054133,
          27.660686567052426,
          27.522023994539623,
          27.503535651537916,
          27.45731479403365,
          27.45731479403365,
          27.392605593527673,
          27.364873079025113,
          27.346384736023406,
          27.309408050019993,
          27.244698849514016,
          27.216966335011456,
          27.189233820508896,
          27.133768791503776,
          27.133768791503776,
          27.133768791503776,
          27.09679210550036,
          27.078303762498653,
          27.050571247996093,
          27.032082904994386,
          26.930397018484996,
          26.893420332481583,
          26.893420332481583,
          26.893420332481583,
          26.847199474977316,
          26.75475775996878,
          26.69929273096366,
          26.54214181544915,
          26.532897643948296,
          26.505165129445732,
          26.46818844344232,
          26.403479242936346,
          26.375746728433786,
          26.320281699428662,
          26.22783998442013,
          26.209351641418422,
          26.12615409791074,
          26.079933240406472,
          26.07068906890562,
          25.978247353897082,
          25.94127066789367,
          25.922782324891962,
          25.88580563888855,
          25.867317295886842,
          25.81185226688172,
          25.78411975237916,
          25.747143066375745,
          25.66394552286806,
          25.62696883686465,
          25.617724665363795,
          25.59923632236209,
          25.580747979360382,
          25.553015464857822,
          25.553015464857822,
          25.54377129335697,
          25.534527121856115,
          25.525282950355262,
          25.51603877885441,
          25.50679460735355,
          25.46981792135014,
          25.44208540684758,
          25.423597063845868,
          25.386620377842455,
          25.3773762063416,
          25.358887863339895,
          25.331155348837335,
          25.275690319832215,
          25.201736947825385,
          25.155516090321118,
          25.1185394043177,
          25.1185394043177,
          24.989121003305755,
          24.989121003305755,
          24.970632660304048,
          24.95214431730234,
          24.942900145801488,
          24.896679288297218,
          24.85045843079295,
          24.841214259292098,
          24.82272591629039,
          24.758016715784414,
          24.674819172276734,
          24.674819172276734,
          24.628598314772468,
          24.573133285767344,
          24.554644942765638,
          24.545400771264784,
          24.40673819875198,
          24.286563969240888,
          24.27731979774003,
          24.194122254232347,
          23.93528545220845,
          23.90755293770589,
          23.870576251702474,
          23.852087908700767,
          23.815111222697354,
          23.787378708194794,
          23.75040202219138,
          23.72266950768882,
          23.565518592174307,
          23.528541906170894,
          23.482321048666627,
          23.269705104146993,
          23.23272841814358,
          23.214240075141873,
          23.214240075141873,
          23.20499590364102,
          23.131042531634193,
          23.112554188632487,
          23.001624130622243,
          22.99237995912139,
          22.936914930116266,
          22.927670758615413,
          22.872205729610293,
          22.844473215107733,
          22.77976401460176,
          22.687322299593223,
          22.650345613589806,
          22.622613099087246,
          22.622613099087246,
          22.567148070082126,
          22.511683041077006,
          22.502438869576153,
          22.446973840571033,
          22.43772966907018,
          22.39150881156591,
          22.382264640065056,
          22.31755543955908,
          22.2343578960514,
          22.215869553049693,
          22.17889286704628,
          22.17889286704628,
          22.114183666540303,
          22.067962809036036,
          22.058718637535183,
          22.012497780030913,
          22.00325360853006,
          21.994009437029206,
          21.910811893521526,
          21.910811893521526,
          21.901567722020673,
          21.846102693015553,
          21.7166842920036,
          21.55028920498824,
          21.411626632475432,
          21.40238246097458,
          21.300696574465192,
          21.300696574465192,
          21.272964059962632,
          21.254475716960926,
          21.217499030957512,
          21.143545658950682,
          21.08808062994556,
          21.060348115443,
          21.051103943942145,
          20.995638914937025,
          20.986394743436172,
          20.84773217092337,
          20.8015113134191,
          20.792267141918245,
          20.78302297041739,
          20.75529045591483,
          20.74604628441398,
          20.69058125540886,
          20.6628487409063,
          20.653604569405445,
          20.64436039790459,
          20.64436039790459,
          20.450232796386665,
          20.44098862488581,
          20.376279424379838,
          20.35779108137813,
          20.311570223873865,
          20.311570223873865,
          20.12668679385679,
          19.960291706841428,
          19.821629134328624,
          19.81238496282777,
          19.766164105323504,
          19.738431590820944,
          19.692210733316678,
          19.59976901830814,
          19.516571474800458,
          19.41488558829107,
          19.35942055928595,
          19.350176387785094,
          19.340932216284244,
          19.331688044783387,
          19.276223015778267,
          19.26697884427741,
          19.15604878626717,
          19.109827928762904,
          19.072851242759487,
          18.99889787075266,
          18.860235298239857,
          18.712328554226204,
          18.675351868222783,
          18.536689295709984,
          18.52744512420913,
          18.518200952708277,
          18.508956781207424,
          18.481224266704864,
          18.47198009520401,
          18.444247580701447,
          18.42575923769974,
          18.37029420869462,
          18.37029420869462,
          18.361050037193763,
          18.333317522691207,
          18.21314329318011,
          18.083724892168163,
          18.065236549166453,
          18.065236549166453,
          17.945062319655356,
          17.760178889638286,
          17.649248831628043,
          17.640004660127193,
          17.640004660127193,
          17.575295459621216,
          17.575295459621216,
          17.575295459621216,
          17.566051288120363,
          17.390412029604146,
          17.381167858103293,
          17.371923686602436,
          17.27023780009305,
          17.08535437007598,
          17.066866027074273,
          17.03913351257171,
          17.02988934107086,
          16.992912655067443,
          16.761808367546102,
          16.632389966534156,
          16.429018193515375,
          16.290355621002576,
          16.133204705488062,
          16.059251333481235,
          16.050007161980382,
          15.957565446971849,
          15.772682016954779,
          15.560066072435145,
          15.550821900934292,
          15.430647671423195,
          15.273496755908685,
          14.903729895874545,
          14.848264866869425,
          14.792799837864301,
          14.718846465857474,
          14.700358122855768,
          14.626404750848938,
          14.626404750848938,
          14.50623052133784,
          14.496986349836988,
          14.441521320831868,
          14.201172861809674,
          13.896115202281507,
          13.443150798739683,
          13.184313996715787,
          13.09187228170725,
          12.99018639519786,
          12.80530296518079,
          12.51873364865433,
          12.435536105146646,
          12.343094390138113,
          12.17669930312275,
          12.167455131621896,
          12.167455131621896,
          12.075013416613363,
          12.001060044606533,
          11.631293184572392,
          11.307747182042515,
          10.845538606999838,
          10.595945976476795,
          10.494260089967405,
          9.930365628415341,
          9.911877285413631,
          9.884144770911071,
          9.708505512394854,
          9.588331282883757,
          9.54211042537949,
          9.135366879341934,
          9.024436821331694,
          8.719379161803523,
          8.636181618295844,
          8.15548470025146,
          7.480660180689149,
          7.258800064668666,
          6.667173088614039,
          6.057057769557705,
          6.029325255055145,
          6.020081083554292,
          5.853685996538928,
          5.853685996538928,
          4.762873759438211,
          2.8863069447649394,
          2.562760942235073,
          2.5257842562316597,
          2.1929940822009257,
          0.15003218051229794,
          -0.7651407980722027
         ],
         "yaxis": "y"
        }
       ],
       "layout": {
        "legend": {
         "tracegroupgap": 0
        },
        "margin": {
         "t": 60
        },
        "template": {
         "data": {
          "bar": [
           {
            "error_x": {
             "color": "#2a3f5f"
            },
            "error_y": {
             "color": "#2a3f5f"
            },
            "marker": {
             "line": {
              "color": "#E5ECF6",
              "width": 0.5
             },
             "pattern": {
              "fillmode": "overlay",
              "size": 10,
              "solidity": 0.2
             }
            },
            "type": "bar"
           }
          ],
          "barpolar": [
           {
            "marker": {
             "line": {
              "color": "#E5ECF6",
              "width": 0.5
             },
             "pattern": {
              "fillmode": "overlay",
              "size": 10,
              "solidity": 0.2
             }
            },
            "type": "barpolar"
           }
          ],
          "carpet": [
           {
            "aaxis": {
             "endlinecolor": "#2a3f5f",
             "gridcolor": "white",
             "linecolor": "white",
             "minorgridcolor": "white",
             "startlinecolor": "#2a3f5f"
            },
            "baxis": {
             "endlinecolor": "#2a3f5f",
             "gridcolor": "white",
             "linecolor": "white",
             "minorgridcolor": "white",
             "startlinecolor": "#2a3f5f"
            },
            "type": "carpet"
           }
          ],
          "choropleth": [
           {
            "colorbar": {
             "outlinewidth": 0,
             "ticks": ""
            },
            "type": "choropleth"
           }
          ],
          "contour": [
           {
            "colorbar": {
             "outlinewidth": 0,
             "ticks": ""
            },
            "colorscale": [
             [
              0,
              "#0d0887"
             ],
             [
              0.1111111111111111,
              "#46039f"
             ],
             [
              0.2222222222222222,
              "#7201a8"
             ],
             [
              0.3333333333333333,
              "#9c179e"
             ],
             [
              0.4444444444444444,
              "#bd3786"
             ],
             [
              0.5555555555555556,
              "#d8576b"
             ],
             [
              0.6666666666666666,
              "#ed7953"
             ],
             [
              0.7777777777777778,
              "#fb9f3a"
             ],
             [
              0.8888888888888888,
              "#fdca26"
             ],
             [
              1,
              "#f0f921"
             ]
            ],
            "type": "contour"
           }
          ],
          "contourcarpet": [
           {
            "colorbar": {
             "outlinewidth": 0,
             "ticks": ""
            },
            "type": "contourcarpet"
           }
          ],
          "heatmap": [
           {
            "colorbar": {
             "outlinewidth": 0,
             "ticks": ""
            },
            "colorscale": [
             [
              0,
              "#0d0887"
             ],
             [
              0.1111111111111111,
              "#46039f"
             ],
             [
              0.2222222222222222,
              "#7201a8"
             ],
             [
              0.3333333333333333,
              "#9c179e"
             ],
             [
              0.4444444444444444,
              "#bd3786"
             ],
             [
              0.5555555555555556,
              "#d8576b"
             ],
             [
              0.6666666666666666,
              "#ed7953"
             ],
             [
              0.7777777777777778,
              "#fb9f3a"
             ],
             [
              0.8888888888888888,
              "#fdca26"
             ],
             [
              1,
              "#f0f921"
             ]
            ],
            "type": "heatmap"
           }
          ],
          "heatmapgl": [
           {
            "colorbar": {
             "outlinewidth": 0,
             "ticks": ""
            },
            "colorscale": [
             [
              0,
              "#0d0887"
             ],
             [
              0.1111111111111111,
              "#46039f"
             ],
             [
              0.2222222222222222,
              "#7201a8"
             ],
             [
              0.3333333333333333,
              "#9c179e"
             ],
             [
              0.4444444444444444,
              "#bd3786"
             ],
             [
              0.5555555555555556,
              "#d8576b"
             ],
             [
              0.6666666666666666,
              "#ed7953"
             ],
             [
              0.7777777777777778,
              "#fb9f3a"
             ],
             [
              0.8888888888888888,
              "#fdca26"
             ],
             [
              1,
              "#f0f921"
             ]
            ],
            "type": "heatmapgl"
           }
          ],
          "histogram": [
           {
            "marker": {
             "pattern": {
              "fillmode": "overlay",
              "size": 10,
              "solidity": 0.2
             }
            },
            "type": "histogram"
           }
          ],
          "histogram2d": [
           {
            "colorbar": {
             "outlinewidth": 0,
             "ticks": ""
            },
            "colorscale": [
             [
              0,
              "#0d0887"
             ],
             [
              0.1111111111111111,
              "#46039f"
             ],
             [
              0.2222222222222222,
              "#7201a8"
             ],
             [
              0.3333333333333333,
              "#9c179e"
             ],
             [
              0.4444444444444444,
              "#bd3786"
             ],
             [
              0.5555555555555556,
              "#d8576b"
             ],
             [
              0.6666666666666666,
              "#ed7953"
             ],
             [
              0.7777777777777778,
              "#fb9f3a"
             ],
             [
              0.8888888888888888,
              "#fdca26"
             ],
             [
              1,
              "#f0f921"
             ]
            ],
            "type": "histogram2d"
           }
          ],
          "histogram2dcontour": [
           {
            "colorbar": {
             "outlinewidth": 0,
             "ticks": ""
            },
            "colorscale": [
             [
              0,
              "#0d0887"
             ],
             [
              0.1111111111111111,
              "#46039f"
             ],
             [
              0.2222222222222222,
              "#7201a8"
             ],
             [
              0.3333333333333333,
              "#9c179e"
             ],
             [
              0.4444444444444444,
              "#bd3786"
             ],
             [
              0.5555555555555556,
              "#d8576b"
             ],
             [
              0.6666666666666666,
              "#ed7953"
             ],
             [
              0.7777777777777778,
              "#fb9f3a"
             ],
             [
              0.8888888888888888,
              "#fdca26"
             ],
             [
              1,
              "#f0f921"
             ]
            ],
            "type": "histogram2dcontour"
           }
          ],
          "mesh3d": [
           {
            "colorbar": {
             "outlinewidth": 0,
             "ticks": ""
            },
            "type": "mesh3d"
           }
          ],
          "parcoords": [
           {
            "line": {
             "colorbar": {
              "outlinewidth": 0,
              "ticks": ""
             }
            },
            "type": "parcoords"
           }
          ],
          "pie": [
           {
            "automargin": true,
            "type": "pie"
           }
          ],
          "scatter": [
           {
            "marker": {
             "colorbar": {
              "outlinewidth": 0,
              "ticks": ""
             }
            },
            "type": "scatter"
           }
          ],
          "scatter3d": [
           {
            "line": {
             "colorbar": {
              "outlinewidth": 0,
              "ticks": ""
             }
            },
            "marker": {
             "colorbar": {
              "outlinewidth": 0,
              "ticks": ""
             }
            },
            "type": "scatter3d"
           }
          ],
          "scattercarpet": [
           {
            "marker": {
             "colorbar": {
              "outlinewidth": 0,
              "ticks": ""
             }
            },
            "type": "scattercarpet"
           }
          ],
          "scattergeo": [
           {
            "marker": {
             "colorbar": {
              "outlinewidth": 0,
              "ticks": ""
             }
            },
            "type": "scattergeo"
           }
          ],
          "scattergl": [
           {
            "marker": {
             "colorbar": {
              "outlinewidth": 0,
              "ticks": ""
             }
            },
            "type": "scattergl"
           }
          ],
          "scattermapbox": [
           {
            "marker": {
             "colorbar": {
              "outlinewidth": 0,
              "ticks": ""
             }
            },
            "type": "scattermapbox"
           }
          ],
          "scatterpolar": [
           {
            "marker": {
             "colorbar": {
              "outlinewidth": 0,
              "ticks": ""
             }
            },
            "type": "scatterpolar"
           }
          ],
          "scatterpolargl": [
           {
            "marker": {
             "colorbar": {
              "outlinewidth": 0,
              "ticks": ""
             }
            },
            "type": "scatterpolargl"
           }
          ],
          "scatterternary": [
           {
            "marker": {
             "colorbar": {
              "outlinewidth": 0,
              "ticks": ""
             }
            },
            "type": "scatterternary"
           }
          ],
          "surface": [
           {
            "colorbar": {
             "outlinewidth": 0,
             "ticks": ""
            },
            "colorscale": [
             [
              0,
              "#0d0887"
             ],
             [
              0.1111111111111111,
              "#46039f"
             ],
             [
              0.2222222222222222,
              "#7201a8"
             ],
             [
              0.3333333333333333,
              "#9c179e"
             ],
             [
              0.4444444444444444,
              "#bd3786"
             ],
             [
              0.5555555555555556,
              "#d8576b"
             ],
             [
              0.6666666666666666,
              "#ed7953"
             ],
             [
              0.7777777777777778,
              "#fb9f3a"
             ],
             [
              0.8888888888888888,
              "#fdca26"
             ],
             [
              1,
              "#f0f921"
             ]
            ],
            "type": "surface"
           }
          ],
          "table": [
           {
            "cells": {
             "fill": {
              "color": "#EBF0F8"
             },
             "line": {
              "color": "white"
             }
            },
            "header": {
             "fill": {
              "color": "#C8D4E3"
             },
             "line": {
              "color": "white"
             }
            },
            "type": "table"
           }
          ]
         },
         "layout": {
          "annotationdefaults": {
           "arrowcolor": "#2a3f5f",
           "arrowhead": 0,
           "arrowwidth": 1
          },
          "autotypenumbers": "strict",
          "coloraxis": {
           "colorbar": {
            "outlinewidth": 0,
            "ticks": ""
           }
          },
          "colorscale": {
           "diverging": [
            [
             0,
             "#8e0152"
            ],
            [
             0.1,
             "#c51b7d"
            ],
            [
             0.2,
             "#de77ae"
            ],
            [
             0.3,
             "#f1b6da"
            ],
            [
             0.4,
             "#fde0ef"
            ],
            [
             0.5,
             "#f7f7f7"
            ],
            [
             0.6,
             "#e6f5d0"
            ],
            [
             0.7,
             "#b8e186"
            ],
            [
             0.8,
             "#7fbc41"
            ],
            [
             0.9,
             "#4d9221"
            ],
            [
             1,
             "#276419"
            ]
           ],
           "sequential": [
            [
             0,
             "#0d0887"
            ],
            [
             0.1111111111111111,
             "#46039f"
            ],
            [
             0.2222222222222222,
             "#7201a8"
            ],
            [
             0.3333333333333333,
             "#9c179e"
            ],
            [
             0.4444444444444444,
             "#bd3786"
            ],
            [
             0.5555555555555556,
             "#d8576b"
            ],
            [
             0.6666666666666666,
             "#ed7953"
            ],
            [
             0.7777777777777778,
             "#fb9f3a"
            ],
            [
             0.8888888888888888,
             "#fdca26"
            ],
            [
             1,
             "#f0f921"
            ]
           ],
           "sequentialminus": [
            [
             0,
             "#0d0887"
            ],
            [
             0.1111111111111111,
             "#46039f"
            ],
            [
             0.2222222222222222,
             "#7201a8"
            ],
            [
             0.3333333333333333,
             "#9c179e"
            ],
            [
             0.4444444444444444,
             "#bd3786"
            ],
            [
             0.5555555555555556,
             "#d8576b"
            ],
            [
             0.6666666666666666,
             "#ed7953"
            ],
            [
             0.7777777777777778,
             "#fb9f3a"
            ],
            [
             0.8888888888888888,
             "#fdca26"
            ],
            [
             1,
             "#f0f921"
            ]
           ]
          },
          "colorway": [
           "#636efa",
           "#EF553B",
           "#00cc96",
           "#ab63fa",
           "#FFA15A",
           "#19d3f3",
           "#FF6692",
           "#B6E880",
           "#FF97FF",
           "#FECB52"
          ],
          "font": {
           "color": "#2a3f5f"
          },
          "geo": {
           "bgcolor": "white",
           "lakecolor": "white",
           "landcolor": "#E5ECF6",
           "showlakes": true,
           "showland": true,
           "subunitcolor": "white"
          },
          "hoverlabel": {
           "align": "left"
          },
          "hovermode": "closest",
          "mapbox": {
           "style": "light"
          },
          "paper_bgcolor": "white",
          "plot_bgcolor": "#E5ECF6",
          "polar": {
           "angularaxis": {
            "gridcolor": "white",
            "linecolor": "white",
            "ticks": ""
           },
           "bgcolor": "#E5ECF6",
           "radialaxis": {
            "gridcolor": "white",
            "linecolor": "white",
            "ticks": ""
           }
          },
          "scene": {
           "xaxis": {
            "backgroundcolor": "#E5ECF6",
            "gridcolor": "white",
            "gridwidth": 2,
            "linecolor": "white",
            "showbackground": true,
            "ticks": "",
            "zerolinecolor": "white"
           },
           "yaxis": {
            "backgroundcolor": "#E5ECF6",
            "gridcolor": "white",
            "gridwidth": 2,
            "linecolor": "white",
            "showbackground": true,
            "ticks": "",
            "zerolinecolor": "white"
           },
           "zaxis": {
            "backgroundcolor": "#E5ECF6",
            "gridcolor": "white",
            "gridwidth": 2,
            "linecolor": "white",
            "showbackground": true,
            "ticks": "",
            "zerolinecolor": "white"
           }
          },
          "shapedefaults": {
           "line": {
            "color": "#2a3f5f"
           }
          },
          "ternary": {
           "aaxis": {
            "gridcolor": "white",
            "linecolor": "white",
            "ticks": ""
           },
           "baxis": {
            "gridcolor": "white",
            "linecolor": "white",
            "ticks": ""
           },
           "bgcolor": "#E5ECF6",
           "caxis": {
            "gridcolor": "white",
            "linecolor": "white",
            "ticks": ""
           }
          },
          "title": {
           "x": 0.05
          },
          "xaxis": {
           "automargin": true,
           "gridcolor": "white",
           "linecolor": "white",
           "ticks": "",
           "title": {
            "standoff": 15
           },
           "zerolinecolor": "white",
           "zerolinewidth": 2
          },
          "yaxis": {
           "automargin": true,
           "gridcolor": "white",
           "linecolor": "white",
           "ticks": "",
           "title": {
            "standoff": 15
           },
           "zerolinecolor": "white",
           "zerolinewidth": 2
          }
         }
        },
        "xaxis": {
         "anchor": "y",
         "domain": [
          0,
          1
         ],
         "title": {
          "text": "x"
         }
        },
        "yaxis": {
         "anchor": "x",
         "domain": [
          0,
          1
         ],
         "title": {
          "text": "y"
         }
        }
       }
      }
     },
     "metadata": {},
     "output_type": "display_data"
    }
   ],
   "source": [
    "px.scatter(x=X_train['LSTAT'], y=y_train, opacity=0.65, \n",
    "                trendline='ols', trendline_color_override='red')"
   ]
  },
  {
   "cell_type": "markdown",
   "metadata": {},
   "source": [
    "Regressionsgerade für LSTAT (% niedrigerer Status der Bevölkerung)"
   ]
  },
  {
   "cell_type": "code",
   "execution_count": 61,
   "metadata": {},
   "outputs": [
    {
     "data": {
      "text/plain": [
       "<AxesSubplot:ylabel='PRICE'>"
      ]
     },
     "execution_count": 61,
     "metadata": {},
     "output_type": "execute_result"
    },
    {
     "data": {
      "image/png": "[encoded data removed]",
      "text/plain": [
       "<Figure size 432x288 with 1 Axes>"
      ]
     },
     "metadata": {
      "filenames": {
       "image/png": "C:\\Users\\andre\\Desktop\\Semester 7\\Applied Data Analytics\\Classification\\Gerbl-Doku_Backup\\_build\\jupyter_execute\\regression_doku_53_1.png"
      },
      "needs_background": "light"
     },
     "output_type": "display_data"
    }
   ],
   "source": [
    "sns.residplot(x=y_pred, y=y_train, scatter_kws={\"s\": 80})"
   ]
  },
  {
   "cell_type": "markdown",
   "metadata": {},
   "source": [
    "Residplot zeigt den Fehler zwischen einem vorhergesagten Wert und dem tatsächlichen Wert an. (Je näher an der Gerade auf 0, desto besser)"
   ]
  },
  {
   "cell_type": "markdown",
   "metadata": {},
   "source": [
    "Modellevaluation mit Testdaten"
   ]
  },
  {
   "cell_type": "code",
   "execution_count": 62,
   "metadata": {},
   "outputs": [],
   "source": [
    "y_pred = linreg.predict(X_test)"
   ]
  },
  {
   "cell_type": "code",
   "execution_count": 63,
   "metadata": {},
   "outputs": [
    {
     "name": "stdout",
     "output_type": "stream",
     "text": [
      "R^2: 0.6753556251471677\n",
      "Adjusted R^2: 0.6737364512077522\n",
      "MAE: 4.505211813354637\n",
      "MSE: 32.0837560713939\n",
      "RMSE: 5.6642524724268695\n"
     ]
    }
   ],
   "source": [
    "print('R^2:',metrics.r2_score(y_test, y_pred))\n",
    "print('Adjusted R^2:',1 - (1-metrics.r2_score(y_test, y_pred))*(len(y_train)-1)/(len(y_train)-X_train.shape[1]-1))\n",
    "print('MAE:',metrics.mean_absolute_error(y_test, y_pred))\n",
    "print('MSE:',metrics.mean_squared_error(y_test, y_pred))\n",
    "print('RMSE:',np.sqrt(metrics.mean_squared_error(y_test, y_pred)))"
   ]
  },
  {
   "cell_type": "markdown",
   "metadata": {},
   "source": [
    "Erreichte Erfolgsmetrik von mindestens 66% erreicht."
   ]
  },
  {
   "cell_type": "code",
   "execution_count": 64,
   "metadata": {},
   "outputs": [
    {
     "data": {
      "application/vnd.plotly.v1+json": {
       "config": {
        "plotlyServerURL": "https://plot.ly"
       },
       "data": [
        {
         "hovertemplate": "x=%{x}<br>y=%{y}<extra></extra>",
         "legendgroup": "",
         "marker": {
          "color": "#636efa",
          "opacity": 0.65,
          "symbol": "circle"
         },
         "mode": "markers",
         "name": "",
         "orientation": "v",
         "showlegend": false,
         "type": "scatter",
         "x": [
          6.849,
          6.696,
          6.03,
          5.878,
          5.362,
          6.372,
          6.63,
          6.072,
          5.951,
          6.417,
          6.75,
          6.874,
          5.731,
          5.787,
          6.023,
          5.608,
          6.649,
          8.725,
          6.162,
          4.926,
          5.705,
          5.628,
          6.567,
          6.415,
          6.29,
          5.896,
          6.096,
          6.014,
          7.52,
          5.39,
          6.579,
          5.605,
          8.034,
          6.251,
          6.144,
          5.926,
          6.341,
          7.147,
          4.138,
          6.114,
          6.333,
          6.31,
          6.618,
          6.162,
          6.185,
          6.824,
          7.802,
          5.887,
          6.101,
          6.405,
          6.98,
          6.358,
          6.43,
          6.319,
          5.093,
          6.456,
          5.852,
          6.122,
          5.99,
          8.247,
          6.411,
          6.63,
          5.747,
          6.348,
          5.412,
          6.98,
          8.337,
          6.54,
          6.009,
          5.854,
          6.312,
          4.652,
          4.963,
          6.674,
          6.127,
          5.762,
          7.016,
          6.453,
          6.51,
          7.148,
          6.431,
          6.021,
          7.185,
          6.629,
          6.49,
          6.345,
          6.417,
          6.431,
          5.794,
          6.335,
          6.976,
          8.704,
          5.983,
          6.012,
          6.202,
          6.009,
          6.593,
          6.442,
          8.266,
          6.195,
          5.837,
          6.485
         ],
         "xaxis": "x",
         "y": [
          28.2,
          23.9,
          16.6,
          22,
          20.8,
          23,
          27.9,
          14.5,
          21.5,
          22.6,
          23.7,
          31.2,
          19.3,
          19.4,
          19.4,
          27.9,
          13.9,
          50,
          24.1,
          14.6,
          16.2,
          15.6,
          23.8,
          25,
          23.5,
          8.3,
          13.5,
          17.5,
          43.1,
          11.5,
          24.1,
          18.5,
          50,
          12.6,
          19.8,
          24.5,
          14.9,
          36.2,
          11.9,
          19.1,
          22.6,
          20.7,
          30.1,
          13.3,
          14.6,
          8.4,
          50,
          12.7,
          25,
          18.6,
          29.8,
          22.2,
          28.7,
          23.8,
          8.1,
          22.2,
          6.3,
          22.1,
          17.5,
          48.3,
          16.7,
          26.6,
          8.5,
          14.5,
          23.7,
          37.2,
          41.7,
          16.5,
          21.7,
          22.7,
          23,
          10.5,
          21.9,
          21,
          20.4,
          21.8,
          50,
          22,
          23.3,
          37.3,
          18,
          19.2,
          34.9,
          13.4,
          22.9,
          22.5,
          13,
          24.6,
          18.3,
          18.1,
          23.9,
          50,
          13.6,
          22.9,
          10.9,
          18.9,
          22.4,
          22.9,
          44.8,
          21.7,
          10.2,
          15.4
         ],
         "yaxis": "y"
        },
        {
         "hovertemplate": "<b>OLS trendline</b><br>y = 10.3162 * x + -42.9062<br>R<sup>2</sup>=0.605589<br><br>x=%{x}<br>y=%{y} <b>(trend)</b><extra></extra>",
         "legendgroup": "",
         "line": {
          "color": "red"
         },
         "marker": {
          "color": "#636efa",
          "symbol": "circle"
         },
         "mode": "lines",
         "name": "",
         "showlegend": false,
         "type": "scatter",
         "x": [
          4.138,
          4.652,
          4.926,
          4.963,
          5.093,
          5.362,
          5.39,
          5.412,
          5.605,
          5.608,
          5.628,
          5.705,
          5.731,
          5.747,
          5.762,
          5.787,
          5.794,
          5.837,
          5.852,
          5.854,
          5.878,
          5.887,
          5.896,
          5.926,
          5.951,
          5.983,
          5.99,
          6.009,
          6.009,
          6.012,
          6.014,
          6.021,
          6.023,
          6.03,
          6.072,
          6.096,
          6.101,
          6.114,
          6.122,
          6.127,
          6.144,
          6.162,
          6.162,
          6.185,
          6.195,
          6.202,
          6.251,
          6.29,
          6.31,
          6.312,
          6.319,
          6.333,
          6.335,
          6.341,
          6.345,
          6.348,
          6.358,
          6.372,
          6.405,
          6.411,
          6.415,
          6.417,
          6.417,
          6.43,
          6.431,
          6.431,
          6.442,
          6.453,
          6.456,
          6.485,
          6.49,
          6.51,
          6.54,
          6.567,
          6.579,
          6.593,
          6.618,
          6.629,
          6.63,
          6.63,
          6.649,
          6.674,
          6.696,
          6.75,
          6.824,
          6.849,
          6.874,
          6.976,
          6.98,
          6.98,
          7.016,
          7.147,
          7.148,
          7.185,
          7.52,
          7.802,
          8.034,
          8.247,
          8.266,
          8.337,
          8.704,
          8.725
         ],
         "xaxis": "x",
         "y": [
          -0.2178579742165283,
          5.084654296856591,
          7.911285351864436,
          8.292983706007831,
          9.634086031376519,
          12.409136227716338,
          12.697989036257283,
          12.924944814396603,
          14.915965958982426,
          14.946914474183231,
          15.153237908855345,
          15.947583132342949,
          16.215803597416688,
          16.38086234515437,
          16.535604921158445,
          16.793509214498584,
          16.865722416633815,
          17.309317801178842,
          17.464060377182932,
          17.484692720650138,
          17.732280842256664,
          17.825126387859108,
          17.91797193346156,
          18.227457085469716,
          18.48536137880984,
          18.815478874285212,
          18.887692076420457,
          19.083699339358958,
          19.083699339358958,
          19.114647854559763,
          19.135280198026983,
          19.207493400162214,
          19.228125743629427,
          19.300338945764665,
          19.733618158576085,
          19.98120628018261,
          20.032787138850644,
          20.166897371387506,
          20.24942674525635,
          20.301007603924376,
          20.47638252339567,
          20.66207361460056,
          20.66207361460056,
          20.899345564473478,
          21.002507281809542,
          21.074720483944773,
          21.58021289889144,
          21.982543596502033,
          22.188867031174134,
          22.20949937464136,
          22.28171257677659,
          22.426138981047067,
          22.44677132451428,
          22.508668354915905,
          22.54993304185033,
          22.58088155705115,
          22.6840432743872,
          22.828469678657676,
          23.168903345866646,
          23.23080037626827,
          23.272065063202696,
          23.29269740666991,
          23.29269740666991,
          23.42680763920678,
          23.437123810940385,
          23.437123810940385,
          23.55060170001004,
          23.664079589079698,
          23.695028104280517,
          23.994197084555076,
          24.045777943223094,
          24.252101377895194,
          24.56158652990336,
          24.840123166710704,
          24.963917227513967,
          25.108343631784443,
          25.366247925124576,
          25.479725814194218,
          25.49004198592784,
          25.49004198592784,
          25.686049248866333,
          25.943953542206465,
          26.17090932034578,
          26.72798259396047,
          27.49137930224726,
          27.749283595587393,
          28.007187888927525,
          29.059437405755254,
          29.10070209268968,
          29.10070209268968,
          29.47208427509947,
          30.82350277220177,
          30.833818943935363,
          31.21551729807876,
          34.67143482883653,
          37.58059525771322,
          39.97394709990966,
          42.171291679167574,
          42.36729894210607,
          43.09974713519204,
          46.88578216142519,
          47.1024217678309
         ],
         "yaxis": "y"
        }
       ],
       "layout": {
        "legend": {
         "tracegroupgap": 0
        },
        "margin": {
         "t": 60
        },
        "template": {
         "data": {
          "bar": [
           {
            "error_x": {
             "color": "#2a3f5f"
            },
            "error_y": {
             "color": "#2a3f5f"
            },
            "marker": {
             "line": {
              "color": "#E5ECF6",
              "width": 0.5
             },
             "pattern": {
              "fillmode": "overlay",
              "size": 10,
              "solidity": 0.2
             }
            },
            "type": "bar"
           }
          ],
          "barpolar": [
           {
            "marker": {
             "line": {
              "color": "#E5ECF6",
              "width": 0.5
             },
             "pattern": {
              "fillmode": "overlay",
              "size": 10,
              "solidity": 0.2
             }
            },
            "type": "barpolar"
           }
          ],
          "carpet": [
           {
            "aaxis": {
             "endlinecolor": "#2a3f5f",
             "gridcolor": "white",
             "linecolor": "white",
             "minorgridcolor": "white",
             "startlinecolor": "#2a3f5f"
            },
            "baxis": {
             "endlinecolor": "#2a3f5f",
             "gridcolor": "white",
             "linecolor": "white",
             "minorgridcolor": "white",
             "startlinecolor": "#2a3f5f"
            },
            "type": "carpet"
           }
          ],
          "choropleth": [
           {
            "colorbar": {
             "outlinewidth": 0,
             "ticks": ""
            },
            "type": "choropleth"
           }
          ],
          "contour": [
           {
            "colorbar": {
             "outlinewidth": 0,
             "ticks": ""
            },
            "colorscale": [
             [
              0,
              "#0d0887"
             ],
             [
              0.1111111111111111,
              "#46039f"
             ],
             [
              0.2222222222222222,
              "#7201a8"
             ],
             [
              0.3333333333333333,
              "#9c179e"
             ],
             [
              0.4444444444444444,
              "#bd3786"
             ],
             [
              0.5555555555555556,
              "#d8576b"
             ],
             [
              0.6666666666666666,
              "#ed7953"
             ],
             [
              0.7777777777777778,
              "#fb9f3a"
             ],
             [
              0.8888888888888888,
              "#fdca26"
             ],
             [
              1,
              "#f0f921"
             ]
            ],
            "type": "contour"
           }
          ],
          "contourcarpet": [
           {
            "colorbar": {
             "outlinewidth": 0,
             "ticks": ""
            },
            "type": "contourcarpet"
           }
          ],
          "heatmap": [
           {
            "colorbar": {
             "outlinewidth": 0,
             "ticks": ""
            },
            "colorscale": [
             [
              0,
              "#0d0887"
             ],
             [
              0.1111111111111111,
              "#46039f"
             ],
             [
              0.2222222222222222,
              "#7201a8"
             ],
             [
              0.3333333333333333,
              "#9c179e"
             ],
             [
              0.4444444444444444,
              "#bd3786"
             ],
             [
              0.5555555555555556,
              "#d8576b"
             ],
             [
              0.6666666666666666,
              "#ed7953"
             ],
             [
              0.7777777777777778,
              "#fb9f3a"
             ],
             [
              0.8888888888888888,
              "#fdca26"
             ],
             [
              1,
              "#f0f921"
             ]
            ],
            "type": "heatmap"
           }
          ],
          "heatmapgl": [
           {
            "colorbar": {
             "outlinewidth": 0,
             "ticks": ""
            },
            "colorscale": [
             [
              0,
              "#0d0887"
             ],
             [
              0.1111111111111111,
              "#46039f"
             ],
             [
              0.2222222222222222,
              "#7201a8"
             ],
             [
              0.3333333333333333,
              "#9c179e"
             ],
             [
              0.4444444444444444,
              "#bd3786"
             ],
             [
              0.5555555555555556,
              "#d8576b"
             ],
             [
              0.6666666666666666,
              "#ed7953"
             ],
             [
              0.7777777777777778,
              "#fb9f3a"
             ],
             [
              0.8888888888888888,
              "#fdca26"
             ],
             [
              1,
              "#f0f921"
             ]
            ],
            "type": "heatmapgl"
           }
          ],
          "histogram": [
           {
            "marker": {
             "pattern": {
              "fillmode": "overlay",
              "size": 10,
              "solidity": 0.2
             }
            },
            "type": "histogram"
           }
          ],
          "histogram2d": [
           {
            "colorbar": {
             "outlinewidth": 0,
             "ticks": ""
            },
            "colorscale": [
             [
              0,
              "#0d0887"
             ],
             [
              0.1111111111111111,
              "#46039f"
             ],
             [
              0.2222222222222222,
              "#7201a8"
             ],
             [
              0.3333333333333333,
              "#9c179e"
             ],
             [
              0.4444444444444444,
              "#bd3786"
             ],
             [
              0.5555555555555556,
              "#d8576b"
             ],
             [
              0.6666666666666666,
              "#ed7953"
             ],
             [
              0.7777777777777778,
              "#fb9f3a"
             ],
             [
              0.8888888888888888,
              "#fdca26"
             ],
             [
              1,
              "#f0f921"
             ]
            ],
            "type": "histogram2d"
           }
          ],
          "histogram2dcontour": [
           {
            "colorbar": {
             "outlinewidth": 0,
             "ticks": ""
            },
            "colorscale": [
             [
              0,
              "#0d0887"
             ],
             [
              0.1111111111111111,
              "#46039f"
             ],
             [
              0.2222222222222222,
              "#7201a8"
             ],
             [
              0.3333333333333333,
              "#9c179e"
             ],
             [
              0.4444444444444444,
              "#bd3786"
             ],
             [
              0.5555555555555556,
              "#d8576b"
             ],
             [
              0.6666666666666666,
              "#ed7953"
             ],
             [
              0.7777777777777778,
              "#fb9f3a"
             ],
             [
              0.8888888888888888,
              "#fdca26"
             ],
             [
              1,
              "#f0f921"
             ]
            ],
            "type": "histogram2dcontour"
           }
          ],
          "mesh3d": [
           {
            "colorbar": {
             "outlinewidth": 0,
             "ticks": ""
            },
            "type": "mesh3d"
           }
          ],
          "parcoords": [
           {
            "line": {
             "colorbar": {
              "outlinewidth": 0,
              "ticks": ""
             }
            },
            "type": "parcoords"
           }
          ],
          "pie": [
           {
            "automargin": true,
            "type": "pie"
           }
          ],
          "scatter": [
           {
            "marker": {
             "colorbar": {
              "outlinewidth": 0,
              "ticks": ""
             }
            },
            "type": "scatter"
           }
          ],
          "scatter3d": [
           {
            "line": {
             "colorbar": {
              "outlinewidth": 0,
              "ticks": ""
             }
            },
            "marker": {
             "colorbar": {
              "outlinewidth": 0,
              "ticks": ""
             }
            },
            "type": "scatter3d"
           }
          ],
          "scattercarpet": [
           {
            "marker": {
             "colorbar": {
              "outlinewidth": 0,
              "ticks": ""
             }
            },
            "type": "scattercarpet"
           }
          ],
          "scattergeo": [
           {
            "marker": {
             "colorbar": {
              "outlinewidth": 0,
              "ticks": ""
             }
            },
            "type": "scattergeo"
           }
          ],
          "scattergl": [
           {
            "marker": {
             "colorbar": {
              "outlinewidth": 0,
              "ticks": ""
             }
            },
            "type": "scattergl"
           }
          ],
          "scattermapbox": [
           {
            "marker": {
             "colorbar": {
              "outlinewidth": 0,
              "ticks": ""
             }
            },
            "type": "scattermapbox"
           }
          ],
          "scatterpolar": [
           {
            "marker": {
             "colorbar": {
              "outlinewidth": 0,
              "ticks": ""
             }
            },
            "type": "scatterpolar"
           }
          ],
          "scatterpolargl": [
           {
            "marker": {
             "colorbar": {
              "outlinewidth": 0,
              "ticks": ""
             }
            },
            "type": "scatterpolargl"
           }
          ],
          "scatterternary": [
           {
            "marker": {
             "colorbar": {
              "outlinewidth": 0,
              "ticks": ""
             }
            },
            "type": "scatterternary"
           }
          ],
          "surface": [
           {
            "colorbar": {
             "outlinewidth": 0,
             "ticks": ""
            },
            "colorscale": [
             [
              0,
              "#0d0887"
             ],
             [
              0.1111111111111111,
              "#46039f"
             ],
             [
              0.2222222222222222,
              "#7201a8"
             ],
             [
              0.3333333333333333,
              "#9c179e"
             ],
             [
              0.4444444444444444,
              "#bd3786"
             ],
             [
              0.5555555555555556,
              "#d8576b"
             ],
             [
              0.6666666666666666,
              "#ed7953"
             ],
             [
              0.7777777777777778,
              "#fb9f3a"
             ],
             [
              0.8888888888888888,
              "#fdca26"
             ],
             [
              1,
              "#f0f921"
             ]
            ],
            "type": "surface"
           }
          ],
          "table": [
           {
            "cells": {
             "fill": {
              "color": "#EBF0F8"
             },
             "line": {
              "color": "white"
             }
            },
            "header": {
             "fill": {
              "color": "#C8D4E3"
             },
             "line": {
              "color": "white"
             }
            },
            "type": "table"
           }
          ]
         },
         "layout": {
          "annotationdefaults": {
           "arrowcolor": "#2a3f5f",
           "arrowhead": 0,
           "arrowwidth": 1
          },
          "autotypenumbers": "strict",
          "coloraxis": {
           "colorbar": {
            "outlinewidth": 0,
            "ticks": ""
           }
          },
          "colorscale": {
           "diverging": [
            [
             0,
             "#8e0152"
            ],
            [
             0.1,
             "#c51b7d"
            ],
            [
             0.2,
             "#de77ae"
            ],
            [
             0.3,
             "#f1b6da"
            ],
            [
             0.4,
             "#fde0ef"
            ],
            [
             0.5,
             "#f7f7f7"
            ],
            [
             0.6,
             "#e6f5d0"
            ],
            [
             0.7,
             "#b8e186"
            ],
            [
             0.8,
             "#7fbc41"
            ],
            [
             0.9,
             "#4d9221"
            ],
            [
             1,
             "#276419"
            ]
           ],
           "sequential": [
            [
             0,
             "#0d0887"
            ],
            [
             0.1111111111111111,
             "#46039f"
            ],
            [
             0.2222222222222222,
             "#7201a8"
            ],
            [
             0.3333333333333333,
             "#9c179e"
            ],
            [
             0.4444444444444444,
             "#bd3786"
            ],
            [
             0.5555555555555556,
             "#d8576b"
            ],
            [
             0.6666666666666666,
             "#ed7953"
            ],
            [
             0.7777777777777778,
             "#fb9f3a"
            ],
            [
             0.8888888888888888,
             "#fdca26"
            ],
            [
             1,
             "#f0f921"
            ]
           ],
           "sequentialminus": [
            [
             0,
             "#0d0887"
            ],
            [
             0.1111111111111111,
             "#46039f"
            ],
            [
             0.2222222222222222,
             "#7201a8"
            ],
            [
             0.3333333333333333,
             "#9c179e"
            ],
            [
             0.4444444444444444,
             "#bd3786"
            ],
            [
             0.5555555555555556,
             "#d8576b"
            ],
            [
             0.6666666666666666,
             "#ed7953"
            ],
            [
             0.7777777777777778,
             "#fb9f3a"
            ],
            [
             0.8888888888888888,
             "#fdca26"
            ],
            [
             1,
             "#f0f921"
            ]
           ]
          },
          "colorway": [
           "#636efa",
           "#EF553B",
           "#00cc96",
           "#ab63fa",
           "#FFA15A",
           "#19d3f3",
           "#FF6692",
           "#B6E880",
           "#FF97FF",
           "#FECB52"
          ],
          "font": {
           "color": "#2a3f5f"
          },
          "geo": {
           "bgcolor": "white",
           "lakecolor": "white",
           "landcolor": "#E5ECF6",
           "showlakes": true,
           "showland": true,
           "subunitcolor": "white"
          },
          "hoverlabel": {
           "align": "left"
          },
          "hovermode": "closest",
          "mapbox": {
           "style": "light"
          },
          "paper_bgcolor": "white",
          "plot_bgcolor": "#E5ECF6",
          "polar": {
           "angularaxis": {
            "gridcolor": "white",
            "linecolor": "white",
            "ticks": ""
           },
           "bgcolor": "#E5ECF6",
           "radialaxis": {
            "gridcolor": "white",
            "linecolor": "white",
            "ticks": ""
           }
          },
          "scene": {
           "xaxis": {
            "backgroundcolor": "#E5ECF6",
            "gridcolor": "white",
            "gridwidth": 2,
            "linecolor": "white",
            "showbackground": true,
            "ticks": "",
            "zerolinecolor": "white"
           },
           "yaxis": {
            "backgroundcolor": "#E5ECF6",
            "gridcolor": "white",
            "gridwidth": 2,
            "linecolor": "white",
            "showbackground": true,
            "ticks": "",
            "zerolinecolor": "white"
           },
           "zaxis": {
            "backgroundcolor": "#E5ECF6",
            "gridcolor": "white",
            "gridwidth": 2,
            "linecolor": "white",
            "showbackground": true,
            "ticks": "",
            "zerolinecolor": "white"
           }
          },
          "shapedefaults": {
           "line": {
            "color": "#2a3f5f"
           }
          },
          "ternary": {
           "aaxis": {
            "gridcolor": "white",
            "linecolor": "white",
            "ticks": ""
           },
           "baxis": {
            "gridcolor": "white",
            "linecolor": "white",
            "ticks": ""
           },
           "bgcolor": "#E5ECF6",
           "caxis": {
            "gridcolor": "white",
            "linecolor": "white",
            "ticks": ""
           }
          },
          "title": {
           "x": 0.05
          },
          "xaxis": {
           "automargin": true,
           "gridcolor": "white",
           "linecolor": "white",
           "ticks": "",
           "title": {
            "standoff": 15
           },
           "zerolinecolor": "white",
           "zerolinewidth": 2
          },
          "yaxis": {
           "automargin": true,
           "gridcolor": "white",
           "linecolor": "white",
           "ticks": "",
           "title": {
            "standoff": 15
           },
           "zerolinecolor": "white",
           "zerolinewidth": 2
          }
         }
        },
        "xaxis": {
         "anchor": "y",
         "domain": [
          0,
          1
         ],
         "title": {
          "text": "x"
         }
        },
        "yaxis": {
         "anchor": "x",
         "domain": [
          0,
          1
         ],
         "title": {
          "text": "y"
         }
        }
       }
      }
     },
     "metadata": {},
     "output_type": "display_data"
    }
   ],
   "source": [
    "px.scatter(x=X_test['RM'], y=y_test, opacity=0.65, \n",
    "                trendline='ols', trendline_color_override='red')"
   ]
  },
  {
   "cell_type": "markdown",
   "metadata": {},
   "source": [
    "Regressionsgerade für RM (durchschnittliche Anzahl der Zimmer pro Wohnung)"
   ]
  },
  {
   "cell_type": "code",
   "execution_count": 65,
   "metadata": {},
   "outputs": [
    {
     "data": {
      "application/vnd.plotly.v1+json": {
       "config": {
        "plotlyServerURL": "https://plot.ly"
       },
       "data": [
        {
         "hovertemplate": "x=%{x}<br>y=%{y}<extra></extra>",
         "legendgroup": "",
         "marker": {
          "color": "#636efa",
          "opacity": 0.65,
          "symbol": "circle"
         },
         "mode": "markers",
         "name": "",
         "orientation": "v",
         "showlegend": false,
         "type": "scatter",
         "x": [
          7.53,
          7.18,
          18.8,
          8.1,
          10.19,
          11.12,
          4.7,
          13.04,
          17.92,
          8.81,
          7.74,
          4.61,
          13.61,
          10.24,
          11.72,
          12.13,
          23.24,
          4.63,
          7.43,
          29.53,
          11.5,
          16.65,
          9.28,
          6.12,
          4.67,
          24.39,
          20.34,
          10.53,
          7.26,
          20.85,
          5.49,
          18.46,
          2.88,
          16.44,
          9.09,
          13.59,
          17.79,
          5.33,
          23.34,
          14.98,
          7.34,
          6.75,
          7.6,
          24.1,
          18.03,
          22.74,
          1.92,
          16.35,
          9.81,
          10.63,
          11.66,
          11.22,
          5.21,
          11.1,
          29.68,
          6.73,
          29.97,
          5.98,
          14.67,
          3.95,
          15.02,
          6.53,
          19.92,
          17.64,
          29.55,
          5.04,
          2.47,
          8.65,
          10.4,
          11.64,
          6.15,
          28.28,
          14,
          11.98,
          14.09,
          10.42,
          2.96,
          8.23,
          7.39,
          3.56,
          15.39,
          10.3,
          5.39,
          23.27,
          5.98,
          4.97,
          19.31,
          5.08,
          14.1,
          16.96,
          5.64,
          5.12,
          18.07,
          12.43,
          14.52,
          13.27,
          9.67,
          8.16,
          4.14,
          13,
          15.69,
          18.85
         ],
         "xaxis": "x",
         "y": [
          28.2,
          23.9,
          16.6,
          22,
          20.8,
          23,
          27.9,
          14.5,
          21.5,
          22.6,
          23.7,
          31.2,
          19.3,
          19.4,
          19.4,
          27.9,
          13.9,
          50,
          24.1,
          14.6,
          16.2,
          15.6,
          23.8,
          25,
          23.5,
          8.3,
          13.5,
          17.5,
          43.1,
          11.5,
          24.1,
          18.5,
          50,
          12.6,
          19.8,
          24.5,
          14.9,
          36.2,
          11.9,
          19.1,
          22.6,
          20.7,
          30.1,
          13.3,
          14.6,
          8.4,
          50,
          12.7,
          25,
          18.6,
          29.8,
          22.2,
          28.7,
          23.8,
          8.1,
          22.2,
          6.3,
          22.1,
          17.5,
          48.3,
          16.7,
          26.6,
          8.5,
          14.5,
          23.7,
          37.2,
          41.7,
          16.5,
          21.7,
          22.7,
          23,
          10.5,
          21.9,
          21,
          20.4,
          21.8,
          50,
          22,
          23.3,
          37.3,
          18,
          19.2,
          34.9,
          13.4,
          22.9,
          22.5,
          13,
          24.6,
          18.3,
          18.1,
          23.9,
          50,
          13.6,
          22.9,
          10.9,
          18.9,
          22.4,
          22.9,
          44.8,
          21.7,
          10.2,
          15.4
         ],
         "yaxis": "y"
        },
        {
         "hovertemplate": "<b>OLS trendline</b><br>y = -1.06946 * x + 35.5749<br>R<sup>2</sup>=0.537125<br><br>x=%{x}<br>y=%{y} <b>(trend)</b><extra></extra>",
         "legendgroup": "",
         "line": {
          "color": "red"
         },
         "marker": {
          "color": "#636efa",
          "symbol": "circle"
         },
         "mode": "lines",
         "name": "",
         "showlegend": false,
         "type": "scatter",
         "x": [
          1.92,
          2.47,
          2.88,
          2.96,
          3.56,
          3.95,
          4.14,
          4.61,
          4.63,
          4.67,
          4.7,
          4.97,
          5.04,
          5.08,
          5.12,
          5.21,
          5.33,
          5.39,
          5.49,
          5.64,
          5.98,
          5.98,
          6.12,
          6.15,
          6.53,
          6.73,
          6.75,
          7.18,
          7.26,
          7.34,
          7.39,
          7.43,
          7.53,
          7.6,
          7.74,
          8.1,
          8.16,
          8.23,
          8.65,
          8.81,
          9.09,
          9.28,
          9.67,
          9.81,
          10.19,
          10.24,
          10.3,
          10.4,
          10.42,
          10.53,
          10.63,
          11.1,
          11.12,
          11.22,
          11.5,
          11.64,
          11.66,
          11.72,
          11.98,
          12.13,
          12.43,
          13,
          13.04,
          13.27,
          13.59,
          13.61,
          14,
          14.09,
          14.1,
          14.52,
          14.67,
          14.98,
          15.02,
          15.39,
          15.69,
          16.35,
          16.44,
          16.65,
          16.96,
          17.64,
          17.79,
          17.92,
          18.03,
          18.07,
          18.46,
          18.8,
          18.85,
          19.31,
          19.92,
          20.34,
          20.85,
          22.74,
          23.24,
          23.27,
          23.34,
          24.1,
          24.39,
          28.28,
          29.53,
          29.55,
          29.68,
          29.97
         ],
         "xaxis": "x",
         "y": [
          33.52154405636521,
          32.933343323124376,
          32.4948664128903,
          32.40930994260073,
          31.76763641542891,
          31.35054862276723,
          31.14735200582949,
          30.644707742878232,
          30.62331862530584,
          30.58054039016105,
          30.54845671380246,
          30.259703626575142,
          30.184841715071762,
          30.142063479926975,
          30.099285244782187,
          30.003034215706414,
          29.874699510272052,
          29.81053215755487,
          29.703586569692902,
          29.543168187899948,
          29.17955318916925,
          29.17955318916925,
          29.029829366162495,
          28.997745689803903,
          28.59135245592842,
          28.37746128020448,
          28.356072162632085,
          27.89620613482562,
          27.810649664536044,
          27.725093194246465,
          27.671620400315483,
          27.628842165170695,
          27.521896577308723,
          27.447034665805347,
          27.297310842798588,
          26.9123067264955,
          26.848139373778316,
          26.77327746227494,
          26.324105993254665,
          26.152993052675512,
          25.853545406662,
          25.650348789724262,
          25.23326099706258,
          25.08353717405582,
          24.677143940180336,
          24.62367114624935,
          24.55950379353217,
          24.4525582056702,
          24.431169088097807,
          24.31352894144964,
          24.206583353587668,
          23.703939090636418,
          23.68254997306402,
          23.57560438520205,
          23.276156739188536,
          23.126432916181777,
          23.105043798609387,
          23.040876445892202,
          22.76281791745108,
          22.60239953565813,
          22.28156277207222,
          21.671972921258995,
          21.629194686114207,
          21.383219834031678,
          21.040993952873375,
          21.01960483530098,
          20.6025170426393,
          20.506266013563526,
          20.49557145477733,
          20.04639998575706,
          19.885981603964105,
          19.554450281592,
          19.511672046447213,
          19.115973371357924,
          18.795136607772015,
          18.089295727883016,
          17.993044698807243,
          17.76845896429711,
          17.436927641925003,
          16.70969764446361,
          16.54927926267066,
          16.410249998450094,
          16.29260985180193,
          16.249831616657143,
          15.832743823995461,
          15.469128825264765,
          15.415656031333778,
          14.923706327168723,
          14.271338241210707,
          13.822166772190435,
          13.27674427409439,
          11.25547266350317,
          10.720744724193324,
          10.688661047834731,
          10.613799136331352,
          9.801012668580384,
          9.490870463780674,
          5.330687095950061,
          3.9938672476754427,
          3.972478130103049,
          3.833448865882488,
          3.5233066610827777
         ],
         "yaxis": "y"
        }
       ],
       "layout": {
        "legend": {
         "tracegroupgap": 0
        },
        "margin": {
         "t": 60
        },
        "template": {
         "data": {
          "bar": [
           {
            "error_x": {
             "color": "#2a3f5f"
            },
            "error_y": {
             "color": "#2a3f5f"
            },
            "marker": {
             "line": {
              "color": "#E5ECF6",
              "width": 0.5
             },
             "pattern": {
              "fillmode": "overlay",
              "size": 10,
              "solidity": 0.2
             }
            },
            "type": "bar"
           }
          ],
          "barpolar": [
           {
            "marker": {
             "line": {
              "color": "#E5ECF6",
              "width": 0.5
             },
             "pattern": {
              "fillmode": "overlay",
              "size": 10,
              "solidity": 0.2
             }
            },
            "type": "barpolar"
           }
          ],
          "carpet": [
           {
            "aaxis": {
             "endlinecolor": "#2a3f5f",
             "gridcolor": "white",
             "linecolor": "white",
             "minorgridcolor": "white",
             "startlinecolor": "#2a3f5f"
            },
            "baxis": {
             "endlinecolor": "#2a3f5f",
             "gridcolor": "white",
             "linecolor": "white",
             "minorgridcolor": "white",
             "startlinecolor": "#2a3f5f"
            },
            "type": "carpet"
           }
          ],
          "choropleth": [
           {
            "colorbar": {
             "outlinewidth": 0,
             "ticks": ""
            },
            "type": "choropleth"
           }
          ],
          "contour": [
           {
            "colorbar": {
             "outlinewidth": 0,
             "ticks": ""
            },
            "colorscale": [
             [
              0,
              "#0d0887"
             ],
             [
              0.1111111111111111,
              "#46039f"
             ],
             [
              0.2222222222222222,
              "#7201a8"
             ],
             [
              0.3333333333333333,
              "#9c179e"
             ],
             [
              0.4444444444444444,
              "#bd3786"
             ],
             [
              0.5555555555555556,
              "#d8576b"
             ],
             [
              0.6666666666666666,
              "#ed7953"
             ],
             [
              0.7777777777777778,
              "#fb9f3a"
             ],
             [
              0.8888888888888888,
              "#fdca26"
             ],
             [
              1,
              "#f0f921"
             ]
            ],
            "type": "contour"
           }
          ],
          "contourcarpet": [
           {
            "colorbar": {
             "outlinewidth": 0,
             "ticks": ""
            },
            "type": "contourcarpet"
           }
          ],
          "heatmap": [
           {
            "colorbar": {
             "outlinewidth": 0,
             "ticks": ""
            },
            "colorscale": [
             [
              0,
              "#0d0887"
             ],
             [
              0.1111111111111111,
              "#46039f"
             ],
             [
              0.2222222222222222,
              "#7201a8"
             ],
             [
              0.3333333333333333,
              "#9c179e"
             ],
             [
              0.4444444444444444,
              "#bd3786"
             ],
             [
              0.5555555555555556,
              "#d8576b"
             ],
             [
              0.6666666666666666,
              "#ed7953"
             ],
             [
              0.7777777777777778,
              "#fb9f3a"
             ],
             [
              0.8888888888888888,
              "#fdca26"
             ],
             [
              1,
              "#f0f921"
             ]
            ],
            "type": "heatmap"
           }
          ],
          "heatmapgl": [
           {
            "colorbar": {
             "outlinewidth": 0,
             "ticks": ""
            },
            "colorscale": [
             [
              0,
              "#0d0887"
             ],
             [
              0.1111111111111111,
              "#46039f"
             ],
             [
              0.2222222222222222,
              "#7201a8"
             ],
             [
              0.3333333333333333,
              "#9c179e"
             ],
             [
              0.4444444444444444,
              "#bd3786"
             ],
             [
              0.5555555555555556,
              "#d8576b"
             ],
             [
              0.6666666666666666,
              "#ed7953"
             ],
             [
              0.7777777777777778,
              "#fb9f3a"
             ],
             [
              0.8888888888888888,
              "#fdca26"
             ],
             [
              1,
              "#f0f921"
             ]
            ],
            "type": "heatmapgl"
           }
          ],
          "histogram": [
           {
            "marker": {
             "pattern": {
              "fillmode": "overlay",
              "size": 10,
              "solidity": 0.2
             }
            },
            "type": "histogram"
           }
          ],
          "histogram2d": [
           {
            "colorbar": {
             "outlinewidth": 0,
             "ticks": ""
            },
            "colorscale": [
             [
              0,
              "#0d0887"
             ],
             [
              0.1111111111111111,
              "#46039f"
             ],
             [
              0.2222222222222222,
              "#7201a8"
             ],
             [
              0.3333333333333333,
              "#9c179e"
             ],
             [
              0.4444444444444444,
              "#bd3786"
             ],
             [
              0.5555555555555556,
              "#d8576b"
             ],
             [
              0.6666666666666666,
              "#ed7953"
             ],
             [
              0.7777777777777778,
              "#fb9f3a"
             ],
             [
              0.8888888888888888,
              "#fdca26"
             ],
             [
              1,
              "#f0f921"
             ]
            ],
            "type": "histogram2d"
           }
          ],
          "histogram2dcontour": [
           {
            "colorbar": {
             "outlinewidth": 0,
             "ticks": ""
            },
            "colorscale": [
             [
              0,
              "#0d0887"
             ],
             [
              0.1111111111111111,
              "#46039f"
             ],
             [
              0.2222222222222222,
              "#7201a8"
             ],
             [
              0.3333333333333333,
              "#9c179e"
             ],
             [
              0.4444444444444444,
              "#bd3786"
             ],
             [
              0.5555555555555556,
              "#d8576b"
             ],
             [
              0.6666666666666666,
              "#ed7953"
             ],
             [
              0.7777777777777778,
              "#fb9f3a"
             ],
             [
              0.8888888888888888,
              "#fdca26"
             ],
             [
              1,
              "#f0f921"
             ]
            ],
            "type": "histogram2dcontour"
           }
          ],
          "mesh3d": [
           {
            "colorbar": {
             "outlinewidth": 0,
             "ticks": ""
            },
            "type": "mesh3d"
           }
          ],
          "parcoords": [
           {
            "line": {
             "colorbar": {
              "outlinewidth": 0,
              "ticks": ""
             }
            },
            "type": "parcoords"
           }
          ],
          "pie": [
           {
            "automargin": true,
            "type": "pie"
           }
          ],
          "scatter": [
           {
            "marker": {
             "colorbar": {
              "outlinewidth": 0,
              "ticks": ""
             }
            },
            "type": "scatter"
           }
          ],
          "scatter3d": [
           {
            "line": {
             "colorbar": {
              "outlinewidth": 0,
              "ticks": ""
             }
            },
            "marker": {
             "colorbar": {
              "outlinewidth": 0,
              "ticks": ""
             }
            },
            "type": "scatter3d"
           }
          ],
          "scattercarpet": [
           {
            "marker": {
             "colorbar": {
              "outlinewidth": 0,
              "ticks": ""
             }
            },
            "type": "scattercarpet"
           }
          ],
          "scattergeo": [
           {
            "marker": {
             "colorbar": {
              "outlinewidth": 0,
              "ticks": ""
             }
            },
            "type": "scattergeo"
           }
          ],
          "scattergl": [
           {
            "marker": {
             "colorbar": {
              "outlinewidth": 0,
              "ticks": ""
             }
            },
            "type": "scattergl"
           }
          ],
          "scattermapbox": [
           {
            "marker": {
             "colorbar": {
              "outlinewidth": 0,
              "ticks": ""
             }
            },
            "type": "scattermapbox"
           }
          ],
          "scatterpolar": [
           {
            "marker": {
             "colorbar": {
              "outlinewidth": 0,
              "ticks": ""
             }
            },
            "type": "scatterpolar"
           }
          ],
          "scatterpolargl": [
           {
            "marker": {
             "colorbar": {
              "outlinewidth": 0,
              "ticks": ""
             }
            },
            "type": "scatterpolargl"
           }
          ],
          "scatterternary": [
           {
            "marker": {
             "colorbar": {
              "outlinewidth": 0,
              "ticks": ""
             }
            },
            "type": "scatterternary"
           }
          ],
          "surface": [
           {
            "colorbar": {
             "outlinewidth": 0,
             "ticks": ""
            },
            "colorscale": [
             [
              0,
              "#0d0887"
             ],
             [
              0.1111111111111111,
              "#46039f"
             ],
             [
              0.2222222222222222,
              "#7201a8"
             ],
             [
              0.3333333333333333,
              "#9c179e"
             ],
             [
              0.4444444444444444,
              "#bd3786"
             ],
             [
              0.5555555555555556,
              "#d8576b"
             ],
             [
              0.6666666666666666,
              "#ed7953"
             ],
             [
              0.7777777777777778,
              "#fb9f3a"
             ],
             [
              0.8888888888888888,
              "#fdca26"
             ],
             [
              1,
              "#f0f921"
             ]
            ],
            "type": "surface"
           }
          ],
          "table": [
           {
            "cells": {
             "fill": {
              "color": "#EBF0F8"
             },
             "line": {
              "color": "white"
             }
            },
            "header": {
             "fill": {
              "color": "#C8D4E3"
             },
             "line": {
              "color": "white"
             }
            },
            "type": "table"
           }
          ]
         },
         "layout": {
          "annotationdefaults": {
           "arrowcolor": "#2a3f5f",
           "arrowhead": 0,
           "arrowwidth": 1
          },
          "autotypenumbers": "strict",
          "coloraxis": {
           "colorbar": {
            "outlinewidth": 0,
            "ticks": ""
           }
          },
          "colorscale": {
           "diverging": [
            [
             0,
             "#8e0152"
            ],
            [
             0.1,
             "#c51b7d"
            ],
            [
             0.2,
             "#de77ae"
            ],
            [
             0.3,
             "#f1b6da"
            ],
            [
             0.4,
             "#fde0ef"
            ],
            [
             0.5,
             "#f7f7f7"
            ],
            [
             0.6,
             "#e6f5d0"
            ],
            [
             0.7,
             "#b8e186"
            ],
            [
             0.8,
             "#7fbc41"
            ],
            [
             0.9,
             "#4d9221"
            ],
            [
             1,
             "#276419"
            ]
           ],
           "sequential": [
            [
             0,
             "#0d0887"
            ],
            [
             0.1111111111111111,
             "#46039f"
            ],
            [
             0.2222222222222222,
             "#7201a8"
            ],
            [
             0.3333333333333333,
             "#9c179e"
            ],
            [
             0.4444444444444444,
             "#bd3786"
            ],
            [
             0.5555555555555556,
             "#d8576b"
            ],
            [
             0.6666666666666666,
             "#ed7953"
            ],
            [
             0.7777777777777778,
             "#fb9f3a"
            ],
            [
             0.8888888888888888,
             "#fdca26"
            ],
            [
             1,
             "#f0f921"
            ]
           ],
           "sequentialminus": [
            [
             0,
             "#0d0887"
            ],
            [
             0.1111111111111111,
             "#46039f"
            ],
            [
             0.2222222222222222,
             "#7201a8"
            ],
            [
             0.3333333333333333,
             "#9c179e"
            ],
            [
             0.4444444444444444,
             "#bd3786"
            ],
            [
             0.5555555555555556,
             "#d8576b"
            ],
            [
             0.6666666666666666,
             "#ed7953"
            ],
            [
             0.7777777777777778,
             "#fb9f3a"
            ],
            [
             0.8888888888888888,
             "#fdca26"
            ],
            [
             1,
             "#f0f921"
            ]
           ]
          },
          "colorway": [
           "#636efa",
           "#EF553B",
           "#00cc96",
           "#ab63fa",
           "#FFA15A",
           "#19d3f3",
           "#FF6692",
           "#B6E880",
           "#FF97FF",
           "#FECB52"
          ],
          "font": {
           "color": "#2a3f5f"
          },
          "geo": {
           "bgcolor": "white",
           "lakecolor": "white",
           "landcolor": "#E5ECF6",
           "showlakes": true,
           "showland": true,
           "subunitcolor": "white"
          },
          "hoverlabel": {
           "align": "left"
          },
          "hovermode": "closest",
          "mapbox": {
           "style": "light"
          },
          "paper_bgcolor": "white",
          "plot_bgcolor": "#E5ECF6",
          "polar": {
           "angularaxis": {
            "gridcolor": "white",
            "linecolor": "white",
            "ticks": ""
           },
           "bgcolor": "#E5ECF6",
           "radialaxis": {
            "gridcolor": "white",
            "linecolor": "white",
            "ticks": ""
           }
          },
          "scene": {
           "xaxis": {
            "backgroundcolor": "#E5ECF6",
            "gridcolor": "white",
            "gridwidth": 2,
            "linecolor": "white",
            "showbackground": true,
            "ticks": "",
            "zerolinecolor": "white"
           },
           "yaxis": {
            "backgroundcolor": "#E5ECF6",
            "gridcolor": "white",
            "gridwidth": 2,
            "linecolor": "white",
            "showbackground": true,
            "ticks": "",
            "zerolinecolor": "white"
           },
           "zaxis": {
            "backgroundcolor": "#E5ECF6",
            "gridcolor": "white",
            "gridwidth": 2,
            "linecolor": "white",
            "showbackground": true,
            "ticks": "",
            "zerolinecolor": "white"
           }
          },
          "shapedefaults": {
           "line": {
            "color": "#2a3f5f"
           }
          },
          "ternary": {
           "aaxis": {
            "gridcolor": "white",
            "linecolor": "white",
            "ticks": ""
           },
           "baxis": {
            "gridcolor": "white",
            "linecolor": "white",
            "ticks": ""
           },
           "bgcolor": "#E5ECF6",
           "caxis": {
            "gridcolor": "white",
            "linecolor": "white",
            "ticks": ""
           }
          },
          "title": {
           "x": 0.05
          },
          "xaxis": {
           "automargin": true,
           "gridcolor": "white",
           "linecolor": "white",
           "ticks": "",
           "title": {
            "standoff": 15
           },
           "zerolinecolor": "white",
           "zerolinewidth": 2
          },
          "yaxis": {
           "automargin": true,
           "gridcolor": "white",
           "linecolor": "white",
           "ticks": "",
           "title": {
            "standoff": 15
           },
           "zerolinecolor": "white",
           "zerolinewidth": 2
          }
         }
        },
        "xaxis": {
         "anchor": "y",
         "domain": [
          0,
          1
         ],
         "title": {
          "text": "x"
         }
        },
        "yaxis": {
         "anchor": "x",
         "domain": [
          0,
          1
         ],
         "title": {
          "text": "y"
         }
        }
       }
      }
     },
     "metadata": {},
     "output_type": "display_data"
    }
   ],
   "source": [
    "px.scatter(x=X_test['LSTAT'], y=y_test, opacity=0.65, \n",
    "                trendline='ols', trendline_color_override='red')"
   ]
  },
  {
   "cell_type": "markdown",
   "metadata": {},
   "source": [
    "Regressionsgerade für LSTAT (% niedrigerer Status der Bevölkerung)"
   ]
  },
  {
   "cell_type": "code",
   "execution_count": 66,
   "metadata": {},
   "outputs": [
    {
     "data": {
      "text/plain": [
       "<AxesSubplot:ylabel='PRICE'>"
      ]
     },
     "execution_count": 66,
     "metadata": {},
     "output_type": "execute_result"
    },
    {
     "data": {
      "image/png": "[encoded data removed]",
      "text/plain": [
       "<Figure size 432x288 with 1 Axes>"
      ]
     },
     "metadata": {
      "filenames": {
       "image/png": "C:\\Users\\andre\\Desktop\\Semester 7\\Applied Data Analytics\\Classification\\Gerbl-Doku_Backup\\_build\\jupyter_execute\\regression_doku_63_1.png"
      },
      "needs_background": "light"
     },
     "output_type": "display_data"
    }
   ],
   "source": [
    "sns.residplot(x=y_pred, y=y_test, scatter_kws={\"s\": 80})"
   ]
  },
  {
   "cell_type": "markdown",
   "metadata": {},
   "source": [
    "Weitaus weniger Punkte, da Testset wesentlich kleiner als Trainingset ist."
   ]
  },
  {
   "cell_type": "markdown",
   "metadata": {},
   "source": [
    "Modell mit allen Features/Variablen trainieren, um damit die Genauigkeit/das Bestimmtheitsmaß zu erhöhen."
   ]
  },
  {
   "cell_type": "code",
   "execution_count": 67,
   "metadata": {},
   "outputs": [],
   "source": [
    "X= df.drop(columns='PRICE')\n",
    "Y= df.PRICE\n"
   ]
  },
  {
   "cell_type": "code",
   "execution_count": 68,
   "metadata": {},
   "outputs": [],
   "source": [
    "from sklearn.model_selection import train_test_split\n",
    "X_train, X_test, y_train, y_test = train_test_split(X,Y,test_size=0.2, random_state=1)"
   ]
  },
  {
   "cell_type": "markdown",
   "metadata": {},
   "source": [
    "Modelltraining mit Trainingsdaten"
   ]
  },
  {
   "cell_type": "code",
   "execution_count": 69,
   "metadata": {},
   "outputs": [],
   "source": [
    "from sklearn.linear_model import LinearRegression\n",
    "from sklearn.metrics import r2_score\n",
    "linreg = LinearRegression()\n",
    "linreg.fit(X_train,y_train)\n",
    "y_pred = linreg.predict(X_train)\n"
   ]
  },
  {
   "cell_type": "code",
   "execution_count": 70,
   "metadata": {},
   "outputs": [
    {
     "name": "stdout",
     "output_type": "stream",
     "text": [
      "R^2: 0.7293585058196337\n",
      "Adjusted R^2: 0.7203371226802882\n",
      "MAE: 3.196196807325742\n",
      "MSE: 21.86279471487961\n",
      "RMSE: 4.675766751547773\n"
     ]
    }
   ],
   "source": [
    "print('R^2:',metrics.r2_score(y_train, y_pred))\n",
    "print('Adjusted R^2:',1 - (1-metrics.r2_score(y_train, y_pred))*(len(y_train)-1)/(len(y_train)-X_train.shape[1]-1))\n",
    "print('MAE:',metrics.mean_absolute_error(y_train, y_pred))\n",
    "print('MSE:',metrics.mean_squared_error(y_train, y_pred))\n",
    "print('RMSE:',np.sqrt(metrics.mean_squared_error(y_train, y_pred)))"
   ]
  },
  {
   "cell_type": "markdown",
   "metadata": {},
   "source": [
    "Weitaus bessere Metriken erreicht. Circa 0.10 höherer Adjusted R^2 Wert."
   ]
  },
  {
   "cell_type": "code",
   "execution_count": 71,
   "metadata": {},
   "outputs": [
    {
     "data": {
      "text/plain": [
       "<AxesSubplot:ylabel='PRICE'>"
      ]
     },
     "execution_count": 71,
     "metadata": {},
     "output_type": "execute_result"
    },
    {
     "data": {
      "image/png": "[encoded data removed]",
      "text/plain": [
       "<Figure size 432x288 with 1 Axes>"
      ]
     },
     "metadata": {
      "filenames": {
       "image/png": "C:\\Users\\andre\\Desktop\\Semester 7\\Applied Data Analytics\\Classification\\Gerbl-Doku_Backup\\_build\\jupyter_execute\\regression_doku_72_1.png"
      },
      "needs_background": "light"
     },
     "output_type": "display_data"
    }
   ],
   "source": [
    "sns.residplot(x=y_pred, y=y_train, scatter_kws={\"s\": 80})"
   ]
  },
  {
   "cell_type": "markdown",
   "metadata": {},
   "source": [
    "Im Residplot spiegelt sich die Verbesserung des Modells auch wider."
   ]
  },
  {
   "cell_type": "markdown",
   "metadata": {},
   "source": [
    "### Modellevaluation\n",
    "\n",
    "Modellevaluation mit Testdaten"
   ]
  },
  {
   "cell_type": "code",
   "execution_count": 72,
   "metadata": {},
   "outputs": [],
   "source": [
    "y_pred = linreg.predict(X_test)\n"
   ]
  },
  {
   "cell_type": "code",
   "execution_count": 73,
   "metadata": {},
   "outputs": [
    {
     "name": "stdout",
     "output_type": "stream",
     "text": [
      "R^2: 0.7634174432138457\n",
      "Adjusted R^2: 0.7555313579876406\n",
      "MAE: 3.7507121808389177\n",
      "MSE: 23.38083648027037\n",
      "RMSE: 4.835373458200553\n"
     ]
    }
   ],
   "source": [
    "print('R^2:',metrics.r2_score(y_test, y_pred))\n",
    "print('Adjusted R^2:',1 - (1-metrics.r2_score(y_test, y_pred))*(len(y_train)-1)/(len(y_train)-X_train.shape[1]-1))\n",
    "print('MAE:',metrics.mean_absolute_error(y_test, y_pred))\n",
    "print('MSE:',metrics.mean_squared_error(y_test, y_pred))\n",
    "print('RMSE:',np.sqrt(metrics.mean_squared_error(y_test, y_pred)))"
   ]
  },
  {
   "cell_type": "markdown",
   "metadata": {},
   "source": [
    "Auch bei der Anwendung auf Testdaten höherer Adjusted R^2 Wert erreicht."
   ]
  },
  {
   "cell_type": "code",
   "execution_count": 74,
   "metadata": {},
   "outputs": [
    {
     "data": {
      "text/plain": [
       "<AxesSubplot:ylabel='PRICE'>"
      ]
     },
     "execution_count": 74,
     "metadata": {},
     "output_type": "execute_result"
    },
    {
     "data": {
      "image/png": "[encoded data removed]",
      "text/plain": [
       "<Figure size 432x288 with 1 Axes>"
      ]
     },
     "metadata": {
      "filenames": {
       "image/png": "C:\\Users\\andre\\Desktop\\Semester 7\\Applied Data Analytics\\Classification\\Gerbl-Doku_Backup\\_build\\jupyter_execute\\regression_doku_78_1.png"
      },
      "needs_background": "light"
     },
     "output_type": "display_data"
    }
   ],
   "source": [
    "sns.residplot(x=y_pred, y=y_test, scatter_kws={\"s\": 80})"
   ]
  },
  {
   "cell_type": "markdown",
   "metadata": {},
   "source": [
    "Residplot spiegelt die Verbesserung des Modells im Vergleich zum Modell mit weniger Variablen wider."
   ]
  },
  {
   "cell_type": "markdown",
   "metadata": {},
   "source": [
    "#### Weiteres Regressionsmodell zum Vergleichen"
   ]
  },
  {
   "cell_type": "markdown",
   "metadata": {},
   "source": [
    "Mit Hilfe von Machine Learning Ansätzen kann das Modell noch weiter verbessert werden. Hierzu wird aus dem Bereich der ensemble Methods (Bagging) der Random Forest Regressor verwendet. Dieses Modell dient dazu, herauszufinden wie genau wir mit den aktuellen Daten werden können."
   ]
  },
  {
   "cell_type": "code",
   "execution_count": 93,
   "metadata": {},
   "outputs": [],
   "source": [
    "from sklearn.ensemble import RandomForestRegressor\n",
    "forest_regressor = RandomForestRegressor(n_estimators=100)\n",
    "# n_estimators gibt die Menge an Bäumen an\n",
    "forest_regressor.fit(X_train, y_train)\n",
    "y_pred_forest = forest_regressor.predict(X_test)"
   ]
  },
  {
   "cell_type": "code",
   "execution_count": 94,
   "metadata": {},
   "outputs": [
    {
     "name": "stdout",
     "output_type": "stream",
     "text": [
      "R^2: 0.9032551217830244\n",
      "Adjusted R^2: 0.9000302925091251\n",
      "MAE: 2.0544509803921582\n",
      "MSE: 9.139169509803933\n",
      "RMSE: 3.023105937575449\n"
     ]
    }
   ],
   "source": [
    "print('R^2:',metrics.r2_score(y_test, y_pred_forest))\n",
    "print('Adjusted R^2:',1 - (1-metrics.r2_score(y_test, y_pred_forest))*(len(y_train)-1)/(len(y_train)-X_train.shape[1]-1))\n",
    "print('MAE:',metrics.mean_absolute_error(y_test, y_pred_forest))\n",
    "print('MSE:',metrics.mean_squared_error(y_test, y_pred_forest))\n",
    "print('RMSE:',np.sqrt(metrics.mean_squared_error(y_test, y_pred_forest)))"
   ]
  },
  {
   "cell_type": "markdown",
   "metadata": {},
   "source": [
    "Hier wird ein weitaus höherer Adjusted R^2 Wert und ein weitaus geringerer RMSE Wert erreicht. Dieses Modell ist um einiges besser geeignet."
   ]
  },
  {
   "cell_type": "code",
   "execution_count": 77,
   "metadata": {},
   "outputs": [
    {
     "data": {
      "text/plain": [
       "<AxesSubplot:ylabel='PRICE'>"
      ]
     },
     "execution_count": 77,
     "metadata": {},
     "output_type": "execute_result"
    },
    {
     "data": {
      "image/png": "[encoded data removed]",
      "text/plain": [
       "<Figure size 432x288 with 1 Axes>"
      ]
     },
     "metadata": {
      "filenames": {
       "image/png": "C:\\Users\\andre\\Desktop\\Semester 7\\Applied Data Analytics\\Classification\\Gerbl-Doku_Backup\\_build\\jupyter_execute\\regression_doku_85_1.png"
      },
      "needs_background": "light"
     },
     "output_type": "display_data"
    }
   ],
   "source": [
    "sns.residplot(x=y_pred_forest, y=y_test, scatter_kws={\"s\": 80})"
   ]
  },
  {
   "cell_type": "markdown",
   "metadata": {},
   "source": [
    "Sehr geringe Fehler/Abweichung (alle Abweichungen unter 10 und RMSE von 2.8)!"
   ]
  },
  {
   "cell_type": "markdown",
   "metadata": {},
   "source": [
    "Eine Möglichkeit, das LinearRegression Modell zu verbessern besteht darin, die Daten von einigen Ausreißern zu befreien. Hierzu wird ein RobustScaler angewendet."
   ]
  },
  {
   "cell_type": "code",
   "execution_count": 81,
   "metadata": {},
   "outputs": [],
   "source": [
    "from sklearn.preprocessing import RobustScaler\n",
    "\n",
    "scaler = RobustScaler()\n",
    "x = scaler.fit_transform(X)\n",
    "X_train,X_test,y_train,y_test = train_test_split(x,Y, test_size=0.2)"
   ]
  },
  {
   "cell_type": "code",
   "execution_count": 82,
   "metadata": {},
   "outputs": [],
   "source": [
    "from sklearn.linear_model import LinearRegression\n",
    "from sklearn.metrics import r2_score\n",
    "linreg = LinearRegression()\n",
    "linreg.fit(X_train,y_train)\n",
    "y_pred = linreg.predict(X_train)"
   ]
  },
  {
   "cell_type": "code",
   "execution_count": 83,
   "metadata": {},
   "outputs": [
    {
     "name": "stdout",
     "output_type": "stream",
     "text": [
      "R^2: 0.7305868043727606\n",
      "Adjusted R^2: 0.7216063645185193\n",
      "MAE: 3.248182555024504\n",
      "MSE: 21.906522606791032\n",
      "RMSE: 4.6804404287193995\n"
     ]
    }
   ],
   "source": [
    "print('R^2:',metrics.r2_score(y_train, y_pred))\n",
    "print('Adjusted R^2:',1 - (1-metrics.r2_score(y_train, y_pred))*(len(y_train)-1)/(len(y_train)-X_train.shape[1]-1))\n",
    "print('MAE:',metrics.mean_absolute_error(y_train, y_pred))\n",
    "print('MSE:',metrics.mean_squared_error(y_train, y_pred))\n",
    "print('RMSE:',np.sqrt(metrics.mean_squared_error(y_train, y_pred)))"
   ]
  },
  {
   "cell_type": "code",
   "execution_count": 84,
   "metadata": {},
   "outputs": [],
   "source": [
    "y_pred = linreg.predict(X_test)"
   ]
  },
  {
   "cell_type": "code",
   "execution_count": 85,
   "metadata": {},
   "outputs": [
    {
     "name": "stdout",
     "output_type": "stream",
     "text": [
      "R^2: 0.7609468313633009\n",
      "Adjusted R^2: 0.7529783924087443\n",
      "MAE: 3.3974798039067506\n",
      "MSE: 22.582564268949444\n",
      "RMSE: 4.752111558975593\n"
     ]
    }
   ],
   "source": [
    "print('R^2:',metrics.r2_score(y_test, y_pred))\n",
    "print('Adjusted R^2:',1 - (1-metrics.r2_score(y_test, y_pred))*(len(y_train)-1)/(len(y_train)-X_train.shape[1]-1))\n",
    "print('MAE:',metrics.mean_absolute_error(y_test, y_pred))\n",
    "print('MSE:',metrics.mean_squared_error(y_test, y_pred))\n",
    "print('RMSE:',np.sqrt(metrics.mean_squared_error(y_test, y_pred)))"
   ]
  },
  {
   "cell_type": "markdown",
   "metadata": {},
   "source": [
    "Durch den Einsatz eines RobustScalers zur Eliminierung von Ausreißern wird das LinearRegression Modell nur marginal besser. Dies liegt vermutlich daran, dass das Dataset keine allzu starken Ausreißer hat."
   ]
  },
  {
   "cell_type": "markdown",
   "metadata": {},
   "source": [
    "Weiterhin ist das RandomForestRegressor Modell die mit Abstand beste Wahl für den Use Case und mit hohem Bestimmtheitsmaß (R^2) und geringem Fehler (RMSE)."
   ]
  },
  {
   "cell_type": "markdown",
   "metadata": {},
   "source": [
    "### Interpretation\n",
    "\n",
    "Die definierten Erfolgsmetriken wurden bereits mit dem Linear Regression Modell erreicht. Bei der Anwendung auf Testdaten ist die Genauigkeit des Modells mit allen Variablen bereits um einiges höher als das Modell mit nur den relevantesten Variablen. Im Vergleich zur Linearen Regression ist die Preisvorhersage mit dem Random Forest Regressor am effektivsten/genauesten. Mit einem Bestimmtheitsmaß von knapp über 0.90 kann das Modell über 90% der Streuung der Daten \"erklären\". Dies ist ein sehr gutes Ergebnis wenn man bedenkt, wie enorm hilfreich ein solches Modell sein kann. Wenn solch ein gutes Ergebnis bereits bei (meist) wenig korrelierenden Daten zu Stande kommt, können durch den Einsatz von noch mehr und präziseren Daten eventuell bald Immobilienmarktexperten obsolet für das Unternehmen werden. Außerdem hat das Dataset ein ethisches Problem durch die Niederstellung von Immobilien an Standorten mit einem hohen Anteil an schwarzer Bevölkerung. Solch eine Auffassung ist nicht mehr zeitgemäß und spielt hoffentlich in der Realität keine Rolle mehr. Stattdessen sollten mehr Faktoren zur Preisermittlung einbezogen werden wie die Grundstücksfläche, Lärmbelästigung oder Nähe zu Schulen und Kindertagesstätten. Solche reellen Faktoren können die Preisvorhersage noch weiter optimieren und damit das Unternehmen bei der Entscheidungsfindung noch besser unterstützen. Ein solch komplexes Thema wie die Ermittlung vom Wert einer Immobilie ist jedoch nicht mit der Analyse von Daten erledigt, sondern bedarf auch weiterhin Strategie und Marktanalysen, welche wiederum neue Daten liefern könnten, die das Modell noch weiter optimieren können."
   ]
  }
 ],
 "metadata": {
  "interpreter": {
   "hash": "463226f144cc21b006ce6927bfc93dd00694e52c8bc6857abb6e555b983749e9"
  },
  "kernelspec": {
   "display_name": "Python 3.8.2 64-bit ('base': conda)",
   "language": "python",
   "name": "python3"
  },
  "language_info": {
   "codemirror_mode": {
    "name": "ipython",
    "version": 3
   },
   "file_extension": ".py",
   "mimetype": "text/x-python",
   "name": "python",
   "nbconvert_exporter": "python",
   "pygments_lexer": "ipython3",
   "version": "3.7.1"
  }
 },
 "nbformat": 4,
 "nbformat_minor": 2
}